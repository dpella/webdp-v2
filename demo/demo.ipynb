{
 "cells": [
  {
   "cell_type": "markdown",
   "metadata": {},
   "source": [
    "This notebook shows examples of running different queries on the engines Tumult, OpenDP and GoogleDP"
   ]
  },
  {
   "cell_type": "markdown",
   "metadata": {},
   "source": [
    "Below we initiate some helper functions and get an access token"
   ]
  },
  {
   "cell_type": "code",
   "execution_count": 1,
   "metadata": {},
   "outputs": [],
   "source": [
    "from requests import request\n",
    "from pprint import pprint\n",
    "\n",
    "SERVER_API_ROOT = \"http://localhost:8080/v2\"\n",
    "ROOT_USER = {\"username\": \"root\", \"password\": \"123\"}\n",
    "\n",
    "\n",
    "def make_request(endpoint, method, token=None, body=None, content_type=\"application/json\"):\n",
    "    headers = { \"Content-Type\": content_type }\n",
    "    if token is not None:\n",
    "        headers[\"Authorization\"] = f\"Bearer {token}\"\n",
    "    request_args={\n",
    "      \"url\": f\"{SERVER_API_ROOT}{endpoint}\",\n",
    "      \"method\": method,\n",
    "      \"headers\": headers,\n",
    "    }\n",
    "    if content_type == \"application/json\" and body is not None:\n",
    "      request_args[\"json\"] = body\n",
    "    if content_type == \"text/csv\" and body is not None:\n",
    "      request_args[\"data\"] = body\n",
    "\n",
    "    return request(**request_args)\n",
    "\n",
    "response = make_request(endpoint=\"/login\", method=\"POST\", body=ROOT_USER).json()\n",
    "\n",
    "TOKEN = response['jwt']"
   ]
  },
  {
   "cell_type": "markdown",
   "metadata": {},
   "source": [
    "Below we create a dataset"
   ]
  },
  {
   "cell_type": "code",
   "execution_count": 2,
   "metadata": {},
   "outputs": [
    {
     "name": "stdout",
     "output_type": "stream",
     "text": [
      "{'id': 6}\n"
     ]
    }
   ],
   "source": [
    "create_dataset_body = {\n",
    "    \"name\": \"salaries\",\n",
    "    \"owner\": \"root\",\n",
    "    \"schema\": [\n",
    "        { \"name\": \"name\",   \"type\": { \"name\": \"Text\" } },\n",
    "        { \"name\": \"age\",    \"type\": { \"name\": \"Int\", \"low\": 18, \"high\": 100 } },\n",
    "        { \"name\": \"job\",    \"type\": { \"name\": \"Enum\", \"labels\": [\"Accountant\", \"Dentist\", \"High School Teacher\", \"Software Engineer\"] } },\n",
    "        { \"name\": \"salary\", \"type\": { \"name\": \"Int\", \"low\": 0, \"high\": 100000 } }\n",
    "    ],\n",
    "    \"privacy_notion\": \"PureDP\",\n",
    "    \"total_budget\": { \"epsilon\": 50 }\n",
    "}\n",
    "\n",
    "\n",
    "response = make_request(endpoint=\"/datasets\", method=\"POST\", token=TOKEN, body=create_dataset_body)\n",
    "DATASET_ID = response.json()[\"id\"]\n",
    "pprint(response.json())"
   ]
  },
  {
   "cell_type": "markdown",
   "metadata": {},
   "source": [
    "Below we upload data"
   ]
  },
  {
   "cell_type": "code",
   "execution_count": 3,
   "metadata": {},
   "outputs": [
    {
     "name": "stdout",
     "output_type": "stream",
     "text": [
      "<Response [204]>\n"
     ]
    }
   ],
   "source": [
    "with open(\"demo_data.csv\") as csv:\n",
    "    data = csv.read()\n",
    "\n",
    "response = make_request(endpoint=f\"/datasets/{DATASET_ID}/upload\", method=\"POST\", token=TOKEN, content_type=\"text/csv\", body=data.encode())\n",
    "pprint(response)"
   ]
  },
  {
   "cell_type": "markdown",
   "metadata": {},
   "source": [
    "Below we allocate budget on the dataset for the user"
   ]
  },
  {
   "cell_type": "code",
   "execution_count": 4,
   "metadata": {},
   "outputs": [
    {
     "name": "stdout",
     "output_type": "stream",
     "text": [
      "<Response [201]>\n"
     ]
    }
   ],
   "source": [
    "allocate_budget_body = {\"epsilon\":50}\n",
    "\n",
    "response = make_request(endpoint=f\"/budgets/allocations/root/{DATASET_ID}\", method=\"POST\", token=TOKEN, body=allocate_budget_body)\n",
    "pprint(response)"
   ]
  },
  {
   "cell_type": "markdown",
   "metadata": {},
   "source": [
    "Below we do eval queries for different engine"
   ]
  },
  {
   "cell_type": "code",
   "execution_count": 5,
   "metadata": {},
   "outputs": [],
   "source": [
    "TUM_EVAL = \"?engine=tumult\"\n",
    "OPEN_EVAL = \"?engine=opendp\"\n",
    "GDP_EVAL = \"?engine=googledp\""
   ]
  },
  {
   "cell_type": "markdown",
   "metadata": {},
   "source": [
    "Below we showcase how similar queries are run on the three different engines, for the most part in the below section all three engines support each of the query type except for min, max"
   ]
  },
  {
   "cell_type": "markdown",
   "metadata": {},
   "source": [
    "Count"
   ]
  },
  {
   "cell_type": "code",
   "execution_count": 6,
   "metadata": {},
   "outputs": [
    {
     "name": "stdout",
     "output_type": "stream",
     "text": [
      "{'rows': [{'age_count': 1001}]}\n"
     ]
    }
   ],
   "source": [
    "# GoogleDP Count\n",
    "GDP_COUNT_BODY = {\n",
    "    \"budget\": {\n",
    "        \"epsilon\": 1\n",
    "    },\n",
    "    \"dataset\": DATASET_ID,\n",
    "    \"query\": [\n",
    "        {\n",
    "            \"count\": {\n",
    "                \"column\": \"age\",\n",
    "                \"mech\": \"Laplace\"\n",
    "            }\n",
    "        }\n",
    "    ]\n",
    "}\n",
    "\n",
    "gcd_resp = make_request(endpoint=f'/queries/evaluate{GDP_EVAL}', method=\"POST\", token=TOKEN, body=GDP_COUNT_BODY)\n",
    "pprint(gcd_resp.json())"
   ]
  },
  {
   "cell_type": "code",
   "execution_count": 7,
   "metadata": {},
   "outputs": [
    {
     "name": "stdout",
     "output_type": "stream",
     "text": [
      "{'rows': [{'age': 1000}]}\n"
     ]
    }
   ],
   "source": [
    "# OpenDP Count\n",
    "ODP_COUNT_BODY = {\n",
    "    \"budget\": {\n",
    "        \"epsilon\": 1\n",
    "    },\n",
    "    \"dataset\": DATASET_ID,\n",
    "    \"query\": [\n",
    "        {\n",
    "            \"count\": {\n",
    "                \"column\": \"age\",\n",
    "                \"mech\": \"Laplace\"\n",
    "            }\n",
    "        }\n",
    "    ]\n",
    "}\n",
    "\n",
    "ocd_resp = make_request(endpoint=f'/queries/evaluate{OPEN_EVAL}', method=\"POST\", token=TOKEN, body=ODP_COUNT_BODY)\n",
    "pprint(ocd_resp.json())"
   ]
  },
  {
   "cell_type": "code",
   "execution_count": 8,
   "metadata": {},
   "outputs": [
    {
     "name": "stdout",
     "output_type": "stream",
     "text": [
      "{'rows': [{'count': 999}]}\n"
     ]
    }
   ],
   "source": [
    "# Tumult Count\n",
    "TUM_COUNT_BODY = {\n",
    "    \"budget\": {\n",
    "        \"epsilon\": 1\n",
    "    },\n",
    "    \"dataset\": DATASET_ID,\n",
    "    \"query\": [\n",
    "        {\n",
    "            \"count\": {\n",
    "                \"mech\": \"Laplace\"\n",
    "            }\n",
    "        }\n",
    "    ]\n",
    "}\n",
    "\n",
    "tcb_resp = make_request(endpoint=f'/queries/evaluate{TUM_EVAL}', method=\"POST\", token=TOKEN, body=TUM_COUNT_BODY)\n",
    "pprint(tcb_resp.json())"
   ]
  },
  {
   "cell_type": "markdown",
   "metadata": {},
   "source": [
    "Sum"
   ]
  },
  {
   "cell_type": "code",
   "execution_count": 9,
   "metadata": {},
   "outputs": [
    {
     "name": "stdout",
     "output_type": "stream",
     "text": [
      "{'rows': [{'age_sum': 43320.90552639472}]}\n"
     ]
    }
   ],
   "source": [
    "# GoogleDP sum\n",
    "GDP_SUM_BODY = {\n",
    "    \"budget\": {\n",
    "        \"epsilon\": 1\n",
    "    },\n",
    "    \"dataset\": DATASET_ID,\n",
    "    \"query\": [\n",
    "        {\n",
    "            \"sum\": {\n",
    "                \"column\": \"age\",\n",
    "                \"mech\": \"Laplace\"\n",
    "            }\n",
    "        }\n",
    "    ]\n",
    "}\n",
    "\n",
    "gsd_resp = make_request(endpoint=f'/queries/evaluate{GDP_EVAL}', method=\"POST\", token=TOKEN, body=GDP_SUM_BODY)\n",
    "pprint(gsd_resp.json())\n"
   ]
  },
  {
   "cell_type": "code",
   "execution_count": 10,
   "metadata": {},
   "outputs": [
    {
     "name": "stdout",
     "output_type": "stream",
     "text": [
      "{'rows': [{'age': 43376}]}\n"
     ]
    }
   ],
   "source": [
    "# OpenDP Sum\n",
    "ODP_SUM_BODY = {\n",
    "    \"budget\": {\n",
    "        \"epsilon\": 1\n",
    "    },\n",
    "    \"dataset\": DATASET_ID,\n",
    "    \"query\": [\n",
    "        {\n",
    "            \"sum\": {\n",
    "                \"column\": \"age\",\n",
    "                \"mech\": \"Laplace\"\n",
    "            }\n",
    "        }\n",
    "    ]\n",
    "}\n",
    "\n",
    "osd_resp = make_request(endpoint=f'/queries/evaluate{OPEN_EVAL}', method=\"POST\", token=TOKEN, body=ODP_SUM_BODY)\n",
    "pprint(osd_resp.json())"
   ]
  },
  {
   "cell_type": "code",
   "execution_count": 11,
   "metadata": {},
   "outputs": [
    {
     "name": "stdout",
     "output_type": "stream",
     "text": [
      "{'rows': [{'age_sum': 43249}]}\n"
     ]
    }
   ],
   "source": [
    "# Tumult Sum\n",
    "TUM_SUM_BODY = {\n",
    "    \"budget\": {\n",
    "        \"epsilon\": 0.5\n",
    "    },\n",
    "    \"dataset\": DATASET_ID,\n",
    "    \"query\": [\n",
    "        {\n",
    "            \"sum\": {\n",
    "                \"column\": \"age\"\n",
    "            }\n",
    "        }\n",
    "    ]\n",
    "}\n",
    "\n",
    "tsb_resp = make_request(endpoint=f'/queries/evaluate{TUM_EVAL}', method=\"POST\", token=TOKEN, body=TUM_SUM_BODY)\n",
    "pprint(tsb_resp.json())"
   ]
  },
  {
   "cell_type": "markdown",
   "metadata": {},
   "source": [
    "Mean"
   ]
  },
  {
   "cell_type": "code",
   "execution_count": 12,
   "metadata": {},
   "outputs": [
    {
     "name": "stdout",
     "output_type": "stream",
     "text": [
      "{'rows': [{'age_mean': 43.22774905107276}]}\n"
     ]
    }
   ],
   "source": [
    "# GoogleDP mean\n",
    "GDP_MEAN_BODY = {\n",
    "    \"budget\": {\n",
    "        \"epsilon\": 1\n",
    "    },\n",
    "    \"dataset\": DATASET_ID,\n",
    "    \"query\": [\n",
    "        {\n",
    "            \"mean\": {\n",
    "                \"column\": \"age\",\n",
    "                \"mech\": \"Laplace\"\n",
    "            }\n",
    "        }\n",
    "    ]\n",
    "}\n",
    "\n",
    "gmd_resp = make_request(endpoint=f'/queries/evaluate{GDP_EVAL}', method=\"POST\", token=TOKEN, body=GDP_MEAN_BODY)\n",
    "pprint(gmd_resp.json())"
   ]
  },
  {
   "cell_type": "code",
   "execution_count": 13,
   "metadata": {},
   "outputs": [],
   "source": [
    "# OpenDP Mean Not Supported\n",
    "# Recommended to do post processing using results from count and sum queries\n"
   ]
  },
  {
   "cell_type": "code",
   "execution_count": 14,
   "metadata": {},
   "outputs": [
    {
     "name": "stdout",
     "output_type": "stream",
     "text": [
      "{'rows': [{'age_mean': 43.358283433133735}]}\n"
     ]
    }
   ],
   "source": [
    "# Tumult Mean\n",
    "TUM_MEAN_BODY = {\n",
    "    \"budget\": {\n",
    "        \"epsilon\": 1\n",
    "    },\n",
    "    \"dataset\": DATASET_ID,\n",
    "    \"query\": [\n",
    "        {\n",
    "            \"mean\": {\n",
    "                \"column\": \"age\"\n",
    "            }\n",
    "        }\n",
    "    ]\n",
    "}\n",
    "\n",
    "tmb_resp = make_request(endpoint=f'/queries/evaluate{TUM_EVAL}', method=\"POST\", token=TOKEN, body=TUM_MEAN_BODY)\n",
    "pprint(tmb_resp.json())"
   ]
  },
  {
   "cell_type": "markdown",
   "metadata": {},
   "source": [
    "Min"
   ]
  },
  {
   "cell_type": "code",
   "execution_count": 15,
   "metadata": {},
   "outputs": [
    {
     "name": "stdout",
     "output_type": "stream",
     "text": [
      "{'rows': [{'age_min': 22.19261991093774}]}\n"
     ]
    }
   ],
   "source": [
    "# GoogleDP min not supported\n",
    "# OpenDP min not supported\n",
    "\n",
    "# Tumult Min\n",
    "TUM_MIN_BODY = {\n",
    "    \"budget\": {\n",
    "        \"epsilon\": 1\n",
    "    },\n",
    "    \"dataset\": DATASET_ID,\n",
    "    \"query\": [\n",
    "        {\n",
    "            \"min\": {\n",
    "                \"column\": \"age\"\n",
    "            }\n",
    "        }\n",
    "    ]\n",
    "}\n",
    "\n",
    "tminb_resp = make_request(endpoint=f'/queries/evaluate{TUM_EVAL}', method=\"POST\", token=TOKEN, body=TUM_MIN_BODY)\n",
    "pprint(tminb_resp.json())"
   ]
  },
  {
   "cell_type": "markdown",
   "metadata": {},
   "source": [
    "Max"
   ]
  },
  {
   "cell_type": "code",
   "execution_count": 16,
   "metadata": {},
   "outputs": [
    {
     "name": "stdout",
     "output_type": "stream",
     "text": [
      "{'rows': [{'age_max': 97.3874355991979}]}\n"
     ]
    }
   ],
   "source": [
    "# GoogleDP max not supported\n",
    "# OpenDP max not supported\n",
    "\n",
    "# Tumult Max\n",
    "TUM_MAX_BODY = {\n",
    "    \"budget\": {\n",
    "        \"epsilon\": 1\n",
    "    },\n",
    "    \"dataset\": DATASET_ID,\n",
    "    \"query\": [\n",
    "        {\n",
    "            \"max\": {\n",
    "                \"column\": \"age\"\n",
    "            }\n",
    "        }\n",
    "    ]\n",
    "}\n",
    "\n",
    "tmaxb_resp = make_request(endpoint=f'/queries/evaluate{TUM_EVAL}', method=\"POST\", token=TOKEN, body=TUM_MAX_BODY)\n",
    "pprint(tmaxb_resp.json())"
   ]
  },
  {
   "cell_type": "markdown",
   "metadata": {},
   "source": [
    "Filter + Count\n"
   ]
  },
  {
   "cell_type": "code",
   "execution_count": 17,
   "metadata": {},
   "outputs": [
    {
     "name": "stdout",
     "output_type": "stream",
     "text": [
      "{'rows': [{'age_count': 874}]}\n"
     ]
    }
   ],
   "source": [
    "# GoogleDP Filter + Count\n",
    "GDP_FILTER_COUNT_BODY = {\n",
    "    \"budget\": {\n",
    "        \"epsilon\": 1\n",
    "    },\n",
    "    \"dataset\": DATASET_ID,\n",
    "    \"query\": [\n",
    "        {\n",
    "            \"filter\": [\"age > 20\", \"age < 60\"]\n",
    "        },\n",
    "        {\n",
    "            \"count\": {\n",
    "                \"column\": \"age\",\n",
    "                \"mech\": \"Laplace\"\n",
    "            }\n",
    "        }\n",
    "    ]\n",
    "}\n",
    "\n",
    "gfcd_resp = make_request(endpoint=f'/queries/evaluate{GDP_EVAL}', method=\"POST\", token=TOKEN, body=GDP_FILTER_COUNT_BODY)\n",
    "pprint(gfcd_resp.json())"
   ]
  },
  {
   "cell_type": "code",
   "execution_count": 18,
   "metadata": {},
   "outputs": [],
   "source": [
    "# OpenDP"
   ]
  },
  {
   "cell_type": "code",
   "execution_count": 19,
   "metadata": {},
   "outputs": [
    {
     "name": "stdout",
     "output_type": "stream",
     "text": [
      "{'rows': [{'count': 876}]}\n"
     ]
    }
   ],
   "source": [
    "# Tumult Filter + Count\n",
    "TUM_FILTER_COUNT_BODY = {\n",
    "    \"budget\": {\n",
    "        \"epsilon\": 1\n",
    "    },\n",
    "    \"dataset\": DATASET_ID,\n",
    "    \"query\": [\n",
    "        { \n",
    "            \"filter\": [\"age > 20\", \"age < 60\"]\n",
    "        },\n",
    "        {\n",
    "            \"count\": {\n",
    "                \"mech\": \"Laplace\"\n",
    "            }\n",
    "        }\n",
    "    ]\n",
    "}\n",
    "\n",
    "tfcb_resp = make_request(endpoint=f'/queries/evaluate{TUM_EVAL}', method=\"POST\", token=TOKEN, body=TUM_FILTER_COUNT_BODY)\n",
    "pprint(tfcb_resp.json())"
   ]
  },
  {
   "cell_type": "markdown",
   "metadata": {},
   "source": [
    "Filter + Sum"
   ]
  },
  {
   "cell_type": "code",
   "execution_count": 20,
   "metadata": {},
   "outputs": [
    {
     "name": "stdout",
     "output_type": "stream",
     "text": [
      "{'rows': [{'age_sum': 35431.1702458096}]}\n"
     ]
    }
   ],
   "source": [
    "# GoogleDP Filter + Sum\n",
    "GDP_FILTER_SUM_BODY = {\n",
    "    \"budget\": {\n",
    "        \"epsilon\": 1\n",
    "    },\n",
    "    \"dataset\": DATASET_ID,\n",
    "    \"query\": [\n",
    "        {\n",
    "            \"filter\": [\"age > 20\", \"age < 60\"]\n",
    "        },\n",
    "        {\n",
    "            \"sum\": {\n",
    "                \"column\": \"age\",\n",
    "                \"mech\": \"Laplace\"\n",
    "            }\n",
    "        }\n",
    "    ]\n",
    "}\n",
    "\n",
    "gfsd_resp = make_request(endpoint=f'/queries/evaluate{GDP_EVAL}', method=\"POST\", token=TOKEN, body=GDP_FILTER_SUM_BODY)\n",
    "pprint(gfsd_resp.json())"
   ]
  },
  {
   "cell_type": "code",
   "execution_count": 21,
   "metadata": {},
   "outputs": [],
   "source": [
    "# OpenDP"
   ]
  },
  {
   "cell_type": "code",
   "execution_count": 22,
   "metadata": {},
   "outputs": [
    {
     "name": "stdout",
     "output_type": "stream",
     "text": [
      "{'rows': [{'age_sum': 35677}]}\n"
     ]
    }
   ],
   "source": [
    "# Tumult Filter + Sum\n",
    "TUM_FILTER_SUM_BODY = {\n",
    "    \"budget\": {\n",
    "        \"epsilon\": 1\n",
    "    },\n",
    "    \"dataset\": DATASET_ID,\n",
    "    \"query\": [\n",
    "        { \n",
    "            \"filter\": [\"age > 20\", \"age < 60\"] \n",
    "        },\n",
    "        {\n",
    "            \"sum\": {\n",
    "                \"column\": \"age\",\n",
    "                \"mech\": \"Laplace\"\n",
    "            }\n",
    "        }\n",
    "    ]\n",
    "}\n",
    "\n",
    "tfsb_resp = make_request(endpoint=f'/queries/evaluate{TUM_EVAL}', method=\"POST\", token=TOKEN, body=TUM_FILTER_SUM_BODY)\n",
    "pprint(tfsb_resp.json())"
   ]
  },
  {
   "cell_type": "markdown",
   "metadata": {},
   "source": [
    "Filter + Mean"
   ]
  },
  {
   "cell_type": "code",
   "execution_count": 23,
   "metadata": {},
   "outputs": [
    {
     "name": "stdout",
     "output_type": "stream",
     "text": [
      "{'rows': [{'age_mean': 40.78355571649132}]}\n"
     ]
    }
   ],
   "source": [
    "# GoogleDP Filter + Mean\n",
    "GDP_FILTER_MEAN_BODY = {\n",
    "    \"budget\": {\n",
    "        \"epsilon\": 1\n",
    "    },\n",
    "    \"dataset\": DATASET_ID,\n",
    "    \"query\": [\n",
    "        {\n",
    "            \"filter\": [\"age > 20\", \"age < 60\"]\n",
    "        },\n",
    "        {\n",
    "            \"mean\": {\n",
    "                \"column\": \"age\",\n",
    "                \"mech\": \"Laplace\"\n",
    "            }\n",
    "        }\n",
    "    ]\n",
    "}\n",
    "\n",
    "gfmd_resp = make_request(endpoint=f'/queries/evaluate{GDP_EVAL}', method=\"POST\", token=TOKEN, body=GDP_FILTER_MEAN_BODY)\n",
    "pprint(gfmd_resp.json())"
   ]
  },
  {
   "cell_type": "code",
   "execution_count": 24,
   "metadata": {},
   "outputs": [],
   "source": [
    "# OpenDP"
   ]
  },
  {
   "cell_type": "code",
   "execution_count": 25,
   "metadata": {},
   "outputs": [
    {
     "name": "stdout",
     "output_type": "stream",
     "text": [
      "{'rows': [{'age_mean': 40.69897377423033}]}\n"
     ]
    }
   ],
   "source": [
    "# Tumult Filter + Mean\n",
    "TUM_FILTER_MEAN_BODY = {\n",
    "    \"budget\": {\n",
    "        \"epsilon\": 1\n",
    "    },\n",
    "    \"dataset\": DATASET_ID,\n",
    "    \"query\": [\n",
    "        { \n",
    "            \"filter\": [\"age > 20\", \"age < 60\"] \n",
    "        },\n",
    "        {\n",
    "            \"mean\": {\n",
    "                \"column\": \"age\",\n",
    "                \"mech\": \"Laplace\"\n",
    "            }\n",
    "        }\n",
    "    ]\n",
    "}\n",
    "\n",
    "tfmb_resp = make_request(endpoint=f'/queries/evaluate{TUM_EVAL}', method=\"POST\", token=TOKEN, body=TUM_FILTER_MEAN_BODY)\n",
    "pprint(tfmb_resp.json())"
   ]
  },
  {
   "cell_type": "markdown",
   "metadata": {},
   "source": [
    "Bin + Count"
   ]
  },
  {
   "cell_type": "code",
   "execution_count": 26,
   "metadata": {},
   "outputs": [
    {
     "name": "stdout",
     "output_type": "stream",
     "text": [
      "{'rows': [{'age_binned': 30, 'count': 199},\n",
      "          {'age_binned': 40, 'count': 236},\n",
      "          {'age_binned': 50, 'count': 234},\n",
      "          {'age_binned': 60, 'count': 220}]}\n"
     ]
    }
   ],
   "source": [
    "# GoogleDP Bin + Count\n",
    "GDP_BIN_COUNT_BODY = {\n",
    "    \"budget\": {\n",
    "        \"epsilon\": 1\n",
    "    },\n",
    "    \"dataset\": DATASET_ID,\n",
    "    \"query\": [\n",
    "        {\n",
    "            \"bin\": {\n",
    "                \"age\": [20,30,40,50,60]\n",
    "            }\n",
    "        },\n",
    "        {\n",
    "            \"count\": {\n",
    "                \"column\": \"age\",\n",
    "                \"mech\": \"Laplace\"\n",
    "            }\n",
    "        }\n",
    "    ]\n",
    "}\n",
    "\n",
    "gbcd_resp = make_request(endpoint=f'/queries/evaluate{GDP_EVAL}', method=\"POST\", token=TOKEN, body=GDP_BIN_COUNT_BODY)\n",
    "pprint(gbcd_resp.json())"
   ]
  },
  {
   "cell_type": "code",
   "execution_count": 27,
   "metadata": {},
   "outputs": [],
   "source": [
    "# OpenDP"
   ]
  },
  {
   "cell_type": "code",
   "execution_count": 28,
   "metadata": {},
   "outputs": [
    {
     "name": "stdout",
     "output_type": "stream",
     "text": [
      "{'rows': [{'age_binned': 30, 'count': 208},\n",
      "          {'age_binned': 40, 'count': 235},\n",
      "          {'age_binned': 50, 'count': 230},\n",
      "          {'age_binned': 60, 'count': 229}]}\n"
     ]
    }
   ],
   "source": [
    "# Tumult Bin + Count\n",
    "TUM_BIN_COUNT_BODY = {\n",
    "    \"budget\": {\n",
    "        \"epsilon\": 1\n",
    "    },\n",
    "    \"dataset\": DATASET_ID,\n",
    "    \"query\": [\n",
    "        { \n",
    "            \"bin\": {\n",
    "                \"age\": [20, 30, 40, 50, 60]\n",
    "            }\n",
    "        },\n",
    "        { \n",
    "            \"groupby\":  {\n",
    "                    \"age_binned\": [30, 40, 50, 60],\n",
    "            }\n",
    "        },\n",
    "        {\n",
    "            \"count\": {\n",
    "                \"mech\": \"Laplace\"\n",
    "            }\n",
    "        }\n",
    "    ]\n",
    "}\n",
    "\n",
    "tbcb_resp = make_request(endpoint=f'/queries/evaluate{TUM_EVAL}', method=\"POST\", token=TOKEN, body=TUM_BIN_COUNT_BODY)\n",
    "pprint(tbcb_resp.json())"
   ]
  },
  {
   "cell_type": "markdown",
   "metadata": {},
   "source": [
    "Bin + Sum"
   ]
  },
  {
   "cell_type": "code",
   "execution_count": 29,
   "metadata": {},
   "outputs": [
    {
     "name": "stdout",
     "output_type": "stream",
     "text": [
      "{'rows': [{'age_binned': 30, 'sum': 6388.586378811393},\n",
      "          {'age_binned': 40, 'sum': 8096.466028908268},\n",
      "          {'age_binned': 50, 'sum': 10796.32630278077},\n",
      "          {'age_binned': 60, 'sum': 12671.563373629004}]}\n"
     ]
    }
   ],
   "source": [
    "# GoogleDP Bin + Sum\n",
    "GDP_BIN_SUM_BODY = {\n",
    "    \"budget\": {\n",
    "        \"epsilon\": 1\n",
    "    },\n",
    "    \"dataset\": DATASET_ID,\n",
    "    \"query\": [\n",
    "        {\n",
    "            \"bin\": {\n",
    "                \"age\": [20,30,40,50,60]\n",
    "            }\n",
    "        },\n",
    "        {\n",
    "            \"sum\": {\n",
    "                \"column\": \"age\",\n",
    "                \"mech\": \"Laplace\"\n",
    "            }\n",
    "        }\n",
    "    ]\n",
    "}\n",
    "\n",
    "gbsd_resp = make_request(endpoint=f'/queries/evaluate{GDP_EVAL}', method=\"POST\", token=TOKEN, body=GDP_BIN_SUM_BODY)\n",
    "pprint(gbsd_resp.json())"
   ]
  },
  {
   "cell_type": "code",
   "execution_count": 30,
   "metadata": {},
   "outputs": [],
   "source": [
    "# OpenDP"
   ]
  },
  {
   "cell_type": "code",
   "execution_count": 31,
   "metadata": {},
   "outputs": [
    {
     "name": "stdout",
     "output_type": "stream",
     "text": [
      "{'rows': [{'age_binned': 30, 'age_sum': 5535},\n",
      "          {'age_binned': 40, 'age_sum': 8089},\n",
      "          {'age_binned': 50, 'age_sum': 10241},\n",
      "          {'age_binned': 60, 'age_sum': 12492}]}\n"
     ]
    }
   ],
   "source": [
    "# Tumult Bin + Sum\n",
    "TUM_BIN_SUM_BODY = {\n",
    "    \"budget\": {\n",
    "        \"epsilon\": 1\n",
    "    },\n",
    "    \"dataset\": DATASET_ID,\n",
    "    \"query\": [\n",
    "        { \n",
    "            \"bin\": {\n",
    "                \"age\": [20, 30, 40, 50, 60]\n",
    "            }\n",
    "        },\n",
    "        { \n",
    "            \"groupby\":  {\n",
    "                    \"age_binned\": [30, 40, 50, 60],\n",
    "            }\n",
    "        },\n",
    "        {\n",
    "            \"sum\": {\n",
    "                \"column\" : \"age\",\n",
    "                \"mech\": \"Laplace\"\n",
    "            }\n",
    "        }\n",
    "    ]\n",
    "}\n",
    "\n",
    "tbsb_resp = make_request(endpoint=f'/queries/evaluate{TUM_EVAL}', method=\"POST\", token=TOKEN, body=TUM_BIN_SUM_BODY)\n",
    "pprint(tbsb_resp.json())"
   ]
  },
  {
   "cell_type": "markdown",
   "metadata": {},
   "source": [
    "Bin + Mean"
   ]
  },
  {
   "cell_type": "code",
   "execution_count": 32,
   "metadata": {},
   "outputs": [
    {
     "name": "stdout",
     "output_type": "stream",
     "text": [
      "{'rows': [{'age_binned': 30, 'mean': 26.74216037766803},\n",
      "          {'age_binned': 40, 'mean': 33.39310441952459},\n",
      "          {'age_binned': 50, 'mean': 41.1941621836511},\n",
      "          {'age_binned': 60, 'mean': 54.63768549542253}]}\n"
     ]
    }
   ],
   "source": [
    "# GoogleDP Bin + Mean\n",
    "GDP_BIN_MEAN_BODY = {\n",
    "    \"budget\": {\n",
    "        \"epsilon\": 1\n",
    "    },\n",
    "    \"dataset\": DATASET_ID,\n",
    "    \"query\": [\n",
    "        {\n",
    "            \"bin\": {\n",
    "                \"age\": [20,30,40,50,60]\n",
    "            }\n",
    "        },\n",
    "        {\n",
    "            \"mean\": {\n",
    "                \"column\": \"age\",\n",
    "                \"mech\": \"Laplace\"\n",
    "            }\n",
    "        }\n",
    "    ]\n",
    "}\n",
    "\n",
    "gbmd_resp = make_request(endpoint=f'/queries/evaluate{GDP_EVAL}', method=\"POST\", token=TOKEN, body=GDP_BIN_MEAN_BODY)\n",
    "pprint(gbmd_resp.json())"
   ]
  },
  {
   "cell_type": "code",
   "execution_count": 33,
   "metadata": {},
   "outputs": [],
   "source": [
    "# OpenDP"
   ]
  },
  {
   "cell_type": "code",
   "execution_count": 34,
   "metadata": {},
   "outputs": [
    {
     "name": "stdout",
     "output_type": "stream",
     "text": [
      "{'rows': [{'age_binned': 30, 'age_mean': 27.00952380952381},\n",
      "          {'age_binned': 40, 'age_mean': 33.95535714285714},\n",
      "          {'age_binned': 50, 'age_mean': 45.93103448275862},\n",
      "          {'age_binned': 60, 'age_mean': 55.92173913043478}]}\n"
     ]
    }
   ],
   "source": [
    "# Tumult Bin + Mean\n",
    "TUM_BIN_MEAN_BODY = {\n",
    "    \"budget\": {\n",
    "        \"epsilon\": 1\n",
    "    },\n",
    "    \"dataset\": DATASET_ID,\n",
    "    \"query\": [\n",
    "        { \n",
    "            \"bin\": {\n",
    "                \"age\": [20, 30, 40, 50, 60]\n",
    "            }\n",
    "        },\n",
    "        { \n",
    "            \"groupby\":  {\n",
    "                    \"age_binned\": [30, 40, 50, 60],\n",
    "            }\n",
    "        },\n",
    "        {\n",
    "            \"mean\": {\n",
    "                \"column\" : \"age\",\n",
    "                \"mech\": \"Laplace\"\n",
    "            }\n",
    "        }\n",
    "    ]\n",
    "}\n",
    "\n",
    "tbmb_resp = make_request(endpoint=f'/queries/evaluate{TUM_EVAL}', method=\"POST\", token=TOKEN, body=TUM_BIN_MEAN_BODY)\n",
    "pprint(tbmb_resp.json())"
   ]
  },
  {
   "cell_type": "markdown",
   "metadata": {},
   "source": [
    "Filter + Bin + Count"
   ]
  },
  {
   "cell_type": "code",
   "execution_count": 35,
   "metadata": {},
   "outputs": [
    {
     "name": "stdout",
     "output_type": "stream",
     "text": [
      "{'rows': [{'age_binned': 30, 'count': 187},\n",
      "          {'age_binned': 40, 'count': 234},\n",
      "          {'age_binned': 50, 'count': 232},\n",
      "          {'age_binned': 60, 'count': 223}]}\n"
     ]
    }
   ],
   "source": [
    "# GoogleDP Filter + Bin + Count\n",
    "GDP_FILTER_BIN_COUNT_BODY = {\n",
    "    \"budget\": {\n",
    "        \"epsilon\": 1\n",
    "    },\n",
    "    \"dataset\": DATASET_ID,\n",
    "    \"query\": [\n",
    "        {\n",
    "            \"filter\": [\"age > 20\", \"age < 60\"]\n",
    "        },\n",
    "        {\n",
    "            \"bin\": {\n",
    "                \"age\": [20,30,40,50,60]\n",
    "            }\n",
    "        },\n",
    "        {\n",
    "            \"count\": {\n",
    "                \"column\": \"age\",\n",
    "                \"mech\": \"Laplace\"\n",
    "            }\n",
    "        }\n",
    "    ]\n",
    "}\n",
    "\n",
    "gfbcb_resp = make_request(endpoint=f'/queries/evaluate{GDP_EVAL}', method=\"POST\", token=TOKEN, body=GDP_FILTER_BIN_COUNT_BODY)\n",
    "pprint(gfbcb_resp.json())"
   ]
  },
  {
   "cell_type": "code",
   "execution_count": 36,
   "metadata": {},
   "outputs": [],
   "source": [
    "# OpenDP"
   ]
  },
  {
   "cell_type": "code",
   "execution_count": 37,
   "metadata": {},
   "outputs": [
    {
     "name": "stdout",
     "output_type": "stream",
     "text": [
      "{'rows': [{'age_binned': 30, 'count': 207},\n",
      "          {'age_binned': 40, 'count': 235},\n",
      "          {'age_binned': 50, 'count': 230},\n",
      "          {'age_binned': 60, 'count': 205}]}\n"
     ]
    }
   ],
   "source": [
    "# Tumult\n",
    "TUM_FILTER_BIN_COUNT_BODY = {\n",
    "    \"budget\": {\n",
    "        \"epsilon\": 1\n",
    "    },\n",
    "    \"dataset\": DATASET_ID,\n",
    "    \"query\": [\n",
    "        { \n",
    "            \"filter\": [\"age > 20\", \"age < 60\"]\n",
    "        },\n",
    "        { \n",
    "            \"bin\": {\n",
    "                \"age\": [20, 30, 40, 50, 60]\n",
    "            }\n",
    "        },\n",
    "        { \n",
    "            \"groupby\":  {\n",
    "                    \"age_binned\": [30, 40, 50, 60],\n",
    "            }\n",
    "        },\n",
    "        {\n",
    "            \"count\": {\n",
    "                \"mech\": \"Laplace\"\n",
    "            }\n",
    "        }\n",
    "    ]\n",
    "}\n",
    "\n",
    "tfbcb_resp = make_request(endpoint=f'/queries/evaluate{TUM_EVAL}', method=\"POST\", token=TOKEN, body=TUM_FILTER_BIN_COUNT_BODY)\n",
    "pprint(tfbcb_resp.json())"
   ]
  },
  {
   "cell_type": "markdown",
   "metadata": {},
   "source": [
    "Filter + Bin + Sum"
   ]
  },
  {
   "cell_type": "code",
   "execution_count": 38,
   "metadata": {},
   "outputs": [
    {
     "name": "stdout",
     "output_type": "stream",
     "text": [
      "{'rows': [{'age_binned': 30, 'sum': 4271.661903867032},\n",
      "          {'age_binned': 40, 'sum': 7961.938738556579},\n",
      "          {'age_binned': 50, 'sum': 10585.016776076052},\n",
      "          {'age_binned': 60, 'sum': 12120.800117380451}]}\n"
     ]
    }
   ],
   "source": [
    "# GoogleDP Filter + Bin + Sum\n",
    "GDP_FILTER_BIN_SUM_BODY = {\n",
    "    \"budget\": {\n",
    "        \"epsilon\": 1\n",
    "    },\n",
    "    \"dataset\": DATASET_ID,\n",
    "    \"query\": [\n",
    "        {\n",
    "            \"filter\": [\"age > 20\", \"age < 60\"]\n",
    "        },\n",
    "        {\n",
    "            \"bin\": {\n",
    "                \"age\": [20,30,40,50,60]\n",
    "            }\n",
    "        },\n",
    "        {\n",
    "            \"sum\": {\n",
    "                \"column\": \"age\",\n",
    "                \"mech\": \"Laplace\"\n",
    "            }\n",
    "        }\n",
    "    ]\n",
    "}\n",
    "\n",
    "gfbsb_resp = make_request(endpoint=f'/queries/evaluate{GDP_EVAL}', method=\"POST\", token=TOKEN, body=GDP_FILTER_BIN_SUM_BODY)\n",
    "pprint(gfbsb_resp.json())"
   ]
  },
  {
   "cell_type": "code",
   "execution_count": 39,
   "metadata": {},
   "outputs": [],
   "source": [
    "# OpenDP"
   ]
  },
  {
   "cell_type": "code",
   "execution_count": 40,
   "metadata": {},
   "outputs": [
    {
     "name": "stdout",
     "output_type": "stream",
     "text": [
      "{'rows': [{'age_binned': 30, 'age_sum': 5798},\n",
      "          {'age_binned': 40, 'age_sum': 8148},\n",
      "          {'age_binned': 50, 'age_sum': 10352},\n",
      "          {'age_binned': 60, 'age_sum': 11314}]}\n"
     ]
    }
   ],
   "source": [
    "# Tumult Filter + Bin + Sum\n",
    "TUM_FILTER_BIN_SUM_BODY = {\n",
    "    \"budget\": {\n",
    "        \"epsilon\": 1\n",
    "    },\n",
    "    \"dataset\": DATASET_ID,\n",
    "    \"query\": [\n",
    "        { \n",
    "            \"filter\": [\"age > 20\", \"age < 60\"]\n",
    "        },\n",
    "        { \n",
    "            \"bin\": {\n",
    "                \"age\": [20, 30, 40, 50, 60]\n",
    "            }\n",
    "        },\n",
    "        { \n",
    "            \"groupby\":  {\n",
    "                    \"age_binned\": [30, 40, 50, 60],\n",
    "            }\n",
    "        },\n",
    "        {\n",
    "            \"sum\": {\n",
    "                \"column\": \"age\",\n",
    "                \"mech\": \"Laplace\"\n",
    "            }\n",
    "        }\n",
    "    ]\n",
    "}\n",
    "\n",
    "tfbsb_resp = make_request(endpoint=f'/queries/evaluate{TUM_EVAL}', method=\"POST\", token=TOKEN, body=TUM_FILTER_BIN_SUM_BODY)\n",
    "pprint(tfbsb_resp.json())"
   ]
  },
  {
   "cell_type": "markdown",
   "metadata": {},
   "source": [
    "Filter + Bin + Mean"
   ]
  },
  {
   "cell_type": "code",
   "execution_count": 41,
   "metadata": {},
   "outputs": [
    {
     "name": "stdout",
     "output_type": "stream",
     "text": [
      "{'rows': [{'age_binned': 30, 'mean': 30.968092973604374},\n",
      "          {'age_binned': 40, 'mean': 28.48708200154348},\n",
      "          {'age_binned': 50, 'mean': 41.26179946768201},\n",
      "          {'age_binned': 60, 'mean': 55.69731833513298}]}\n"
     ]
    }
   ],
   "source": [
    "# GoogleDP Filter + Bin + Mean\n",
    "GDP_FILTER_BIN_MEAN_BODY = {\n",
    "    \"budget\": {\n",
    "        \"epsilon\": 1\n",
    "    },\n",
    "    \"dataset\": DATASET_ID,\n",
    "    \"query\": [\n",
    "        {\n",
    "            \"filter\": [\"age > 20\", \"age < 60\"]\n",
    "        },\n",
    "        {\n",
    "            \"bin\": {\n",
    "                \"age\": [20,30,40,50,60]\n",
    "            }\n",
    "        },\n",
    "        {\n",
    "            \"mean\": {\n",
    "                \"column\": \"age\",\n",
    "                \"mech\": \"Laplace\"\n",
    "            }\n",
    "        }\n",
    "    ]\n",
    "}\n",
    "\n",
    "gfbmb_resp = make_request(endpoint=f'/queries/evaluate{GDP_EVAL}', method=\"POST\", token=TOKEN, body=GDP_FILTER_BIN_MEAN_BODY)\n",
    "pprint(gfbmb_resp.json())"
   ]
  },
  {
   "cell_type": "code",
   "execution_count": 42,
   "metadata": {},
   "outputs": [],
   "source": [
    "# OpenDP"
   ]
  },
  {
   "cell_type": "code",
   "execution_count": 43,
   "metadata": {},
   "outputs": [
    {
     "name": "stdout",
     "output_type": "stream",
     "text": [
      "{'rows': [{'age_binned': 30, 'age_mean': 27.07075471698113},\n",
      "          {'age_binned': 40, 'age_mean': 34.66666666666667},\n",
      "          {'age_binned': 50, 'age_mean': 45.50438596491228},\n",
      "          {'age_binned': 60, 'age_mean': 55.30882352941177}]}\n"
     ]
    }
   ],
   "source": [
    "# Tumult Filter + Bin + Mean\n",
    "TUM_FILTER_BIN_MEAN_BODY = {\n",
    "    \"budget\": {\n",
    "        \"epsilon\": 1\n",
    "    },\n",
    "    \"dataset\": DATASET_ID,\n",
    "    \"query\": [\n",
    "        { \n",
    "            \"filter\": [\"age > 20\", \"age < 60\"] \n",
    "        },\n",
    "        { \n",
    "            \"bin\": {\n",
    "                \"age\": [20, 30, 40, 50, 60]\n",
    "            }\n",
    "        },\n",
    "        { \n",
    "            \"groupby\":  {\n",
    "                    \"age_binned\": [30, 40, 50, 60],\n",
    "            }\n",
    "        },\n",
    "        {\n",
    "            \"mean\": {\n",
    "                \"column\": \"age\",\n",
    "                \"mech\": \"Laplace\"\n",
    "            }\n",
    "        }\n",
    "    ]\n",
    "}\n",
    "\n",
    "tfbmb_resp = make_request(endpoint=f'/queries/evaluate{TUM_EVAL}', method=\"POST\", token=TOKEN, body=TUM_FILTER_BIN_MEAN_BODY)\n",
    "pprint(tfbmb_resp.json())"
   ]
  },
  {
   "cell_type": "markdown",
   "metadata": {},
   "source": [
    "Below queries are only supported in Tumult at the moment"
   ]
  },
  {
   "cell_type": "code",
   "execution_count": 44,
   "metadata": {},
   "outputs": [
    {
     "name": "stdout",
     "output_type": "stream",
     "text": [
      "{'rows': [{'job': 'Accountant', 'salary_sum': 2968792},\n",
      "          {'job': 'Dentist', 'salary_sum': 4236114},\n",
      "          {'job': 'High School Teacher', 'salary_sum': 2780610},\n",
      "          {'job': 'Software Engineer', 'salary_sum': 3354384}]}\n"
     ]
    }
   ],
   "source": [
    "# Tumult GroupBy + Mean\n",
    "TUM_GBY_MEAN_BODY = {\n",
    "        \"dataset\": DATASET_ID,\n",
    "        \"budget\": { \"epsilon\": 0.5 },\n",
    "        \"query\": [\n",
    "            { \"groupby\": { \"job\": [\"Accountant\", \"Dentist\", \"High School Teacher\", \"Software Engineer\"] } },\n",
    "            { \"sum\": { \"column\": \"salary\" } }\n",
    "        ]\n",
    "    }\n",
    "\n",
    "tgmb_resp = make_request(endpoint=f'/queries/evaluate{TUM_EVAL}', method=\"POST\", token=TOKEN, body=TUM_GBY_MEAN_BODY)\n",
    "pprint(tgmb_resp.json())"
   ]
  },
  {
   "cell_type": "code",
   "execution_count": 45,
   "metadata": {},
   "outputs": [
    {
     "name": "stdout",
     "output_type": "stream",
     "text": [
      "{'rows': [{'age_binned': 30,\n",
      "           'job': 'Accountant',\n",
      "           'salary_mean': 16947.07272727273},\n",
      "          {'age_binned': 30,\n",
      "           'job': 'Dentist',\n",
      "           'salary_mean': 13600.029411764706},\n",
      "          {'age_binned': 30,\n",
      "           'job': 'High School Teacher',\n",
      "           'salary_mean': 10391.571428571428},\n",
      "          {'age_binned': 30,\n",
      "           'job': 'Software Engineer',\n",
      "           'salary_mean': 10117.218181818185},\n",
      "          {'age_binned': 45,\n",
      "           'job': 'Accountant',\n",
      "           'salary_mean': 10998.20224719101},\n",
      "          {'age_binned': 45,\n",
      "           'job': 'Dentist',\n",
      "           'salary_mean': 13703.849999999999},\n",
      "          {'age_binned': 45,\n",
      "           'job': 'High School Teacher',\n",
      "           'salary_mean': 12219.436170212764},\n",
      "          {'age_binned': 45,\n",
      "           'job': 'Software Engineer',\n",
      "           'salary_mean': 13364.285714285717},\n",
      "          {'age_binned': 60,\n",
      "           'job': 'Accountant',\n",
      "           'salary_mean': 10465.743589743586},\n",
      "          {'age_binned': 60,\n",
      "           'job': 'Dentist',\n",
      "           'salary_mean': 18365.21111111111},\n",
      "          {'age_binned': 60,\n",
      "           'job': 'High School Teacher',\n",
      "           'salary_mean': 15500.80487804878},\n",
      "          {'age_binned': 60,\n",
      "           'job': 'Software Engineer',\n",
      "           'salary_mean': 18593.89010989011},\n",
      "          {'age_binned': 75,\n",
      "           'job': 'Accountant',\n",
      "           'salary_mean': 20767.714285714286},\n",
      "          {'age_binned': 75, 'job': 'Dentist', 'salary_mean': 23510.92},\n",
      "          {'age_binned': 75,\n",
      "           'job': 'High School Teacher',\n",
      "           'salary_mean': 26712.5},\n",
      "          {'age_binned': 75,\n",
      "           'job': 'Software Engineer',\n",
      "           'salary_mean': 16829.434782608696}]}\n"
     ]
    }
   ],
   "source": [
    "# Tumult Bin + GroupBy + Mean\n",
    "TUM_BIN_GBY_MEAN_BODY = {\n",
    "        \"dataset\": DATASET_ID,\n",
    "        \"budget\": { \"epsilon\": 1 },\n",
    "        \"query\": [\n",
    "            { \"bin\": { \"age\": [18, 30, 45, 60, 75] } },\n",
    "            { \"groupby\":  {\n",
    "                    \"age_binned\": [30, 45, 60, 75],\n",
    "                    \"job\": [\"Accountant\", \"Dentist\", \"High School Teacher\", \"Software Engineer\"]\n",
    "                }\n",
    "            },\n",
    "            { \"mean\": { \"column\": \"salary\" } }\n",
    "        ]\n",
    "    }\n",
    "\n",
    "tbgmb_resp = make_request(endpoint=f'/queries/evaluate{TUM_EVAL}', method=\"POST\", token=TOKEN, body=TUM_BIN_GBY_MEAN_BODY)\n",
    "pprint(tbgmb_resp.json())"
   ]
  },
  {
   "cell_type": "code",
   "execution_count": null,
   "metadata": {},
   "outputs": [],
   "source": []
  }
 ],
 "metadata": {
  "kernelspec": {
   "display_name": "Python 3 (ipykernel)",
   "language": "python",
   "name": "python3"
  },
  "language_info": {
   "codemirror_mode": {
    "name": "ipython",
    "version": 3
   },
   "file_extension": ".py",
   "mimetype": "text/x-python",
   "name": "python",
   "nbconvert_exporter": "python",
   "pygments_lexer": "ipython3",
   "version": "3.12.0"
  }
 },
 "nbformat": 4,
 "nbformat_minor": 4
}
