{
 "cells": [
  {
   "cell_type": "markdown",
   "metadata": {},
   "source": [
    "This notebook shows examples of running different queries on the engines Tumult, OpenDP and GoogleDP"
   ]
  },
  {
   "cell_type": "markdown",
   "metadata": {},
   "source": [
    "Below we initiate some helper functions and get an access token"
   ]
  },
  {
   "cell_type": "code",
   "execution_count": null,
   "metadata": {},
   "outputs": [],
   "source": [
    "from requests import request\n",
    "from pprint import pprint\n",
    "\n",
    "SERVER_API_ROOT = \"http://localhost:8000/v2\"\n",
    "ROOT_USER = {\"username\": \"root\", \"password\": \"123\"}\n",
    "\n",
    "\n",
    "def make_request(endpoint, method, token=None, body=None, content_type=\"application/json\"):\n",
    "    headers = { \"Content-Type\": content_type }\n",
    "    if token is not None:\n",
    "        headers[\"Authorization\"] = f\"Bearer {token}\"\n",
    "    request_args={\n",
    "      \"url\": f\"{SERVER_API_ROOT}{endpoint}\",\n",
    "      \"method\": method,\n",
    "      \"headers\": headers,\n",
    "    }\n",
    "    if content_type == \"application/json\" and body is not None:\n",
    "      request_args[\"json\"] = body\n",
    "    if content_type == \"text/csv\" and body is not None:\n",
    "      request_args[\"data\"] = body\n",
    "\n",
    "    return request(**request_args)\n",
    "\n",
    "response = make_request(endpoint=\"/login\", method=\"POST\", body=ROOT_USER).json()\n",
    "\n",
    "TOKEN = response['token']"
   ]
  },
  {
   "cell_type": "markdown",
   "metadata": {},
   "source": [
    "Below we create a dataset"
   ]
  },
  {
   "cell_type": "code",
   "execution_count": null,
   "metadata": {},
   "outputs": [],
   "source": [
    "create_dataset_body = {\n",
    "    \"name\": \"salaries\",\n",
    "    \"owner\": \"root\",\n",
    "    \"schema\": [\n",
    "        { \"name\": \"name\",   \"type\": { \"name\": \"Text\" } },\n",
    "        { \"name\": \"age\",    \"type\": { \"name\": \"Int\", \"low\": 18, \"high\": 100 } },\n",
    "        { \"name\": \"job\",    \"type\": { \"name\": \"Enum\", \"labels\": [\"Accountant\", \"Dentist\", \"High School Teacher\", \"Software Engineer\"] } },\n",
    "        { \"name\": \"salary\", \"type\": { \"name\": \"Int\", \"low\": 0, \"high\": 100000 } }\n",
    "    ],\n",
    "    \"privacy_notion\": \"PureDP\",\n",
    "    \"total_budget\": { \"epsilon\": 50 }\n",
    "}\n",
    "\n",
    "\n",
    "response = make_request(endpoint=\"/datasets\", method=\"POST\", token=TOKEN, body=create_dataset_body)\n",
    "pprint(response.json())"
   ]
  },
  {
   "cell_type": "markdown",
   "metadata": {},
   "source": [
    "Below we upload data"
   ]
  },
  {
   "cell_type": "code",
   "execution_count": null,
   "metadata": {},
   "outputs": [],
   "source": [
    "with open(\"demo_data.csv\") as csv:\n",
    "    data = csv.read()\n",
    "\n",
    "response = make_request(endpoint=\"/datasets/1/upload\", method=\"POST\", token=TOKEN, content_type=\"text/csv\", body=data.encode())\n",
    "pprint(response)"
   ]
  },
  {
   "cell_type": "markdown",
   "metadata": {},
   "source": [
    "Below we allocate budget on the dataset for the user"
   ]
  },
  {
   "cell_type": "code",
   "execution_count": null,
   "metadata": {},
   "outputs": [],
   "source": [
    "allocate_budget_body = {\"epsilon\":50}\n",
    "\n",
    "response = make_request(endpoint=\"/budgets/allocations/root/1\", method=\"POST\", token=TOKEN, body=allocate_budget_body)\n",
    "pprint(response)"
   ]
  },
  {
   "cell_type": "markdown",
   "metadata": {},
   "source": [
    "Below we do eval queries for different engine"
   ]
  },
  {
   "cell_type": "code",
   "execution_count": null,
   "metadata": {},
   "outputs": [],
   "source": [
    "TUM_EVAL = \"?engine=tumult\"\n",
    "OPEN_EVAL = \"?engine=opendp\"\n",
    "GDP_EVAL = \"?engine=googledp\""
   ]
  },
  {
   "cell_type": "markdown",
   "metadata": {},
   "source": [
    "Below we showcase how similar queries are run on the three different engines, for the most part in the below section all three engines support each of the query type except for min, max"
   ]
  },
  {
   "cell_type": "markdown",
   "metadata": {},
   "source": [
    "Count"
   ]
  },
  {
   "cell_type": "code",
   "execution_count": null,
   "metadata": {},
   "outputs": [],
   "source": [
    "# GoogleDP Count\n",
    "GDP_COUNT_BODY = {\n",
    "    \"budget\": {\n",
    "        \"epsilon\": 1\n",
    "    },\n",
    "    \"dataset\": 1,\n",
    "    \"query\": [\n",
    "        {\n",
    "            \"count\": {\n",
    "                \"column\": \"age\",\n",
    "                \"mech\": \"Laplace\"\n",
    "            }\n",
    "        }\n",
    "    ]\n",
    "}\n",
    "\n",
    "gcd_resp = make_request(endpoint=f'/queries/evaluate{GDP_EVAL}', method=\"POST\", token=TOKEN, body=GDP_COUNT_BODY)\n",
    "pprint(gcd_resp.json())"
   ]
  },
  {
   "cell_type": "code",
   "execution_count": null,
   "metadata": {},
   "outputs": [],
   "source": [
    "# OpenDP Count\n",
    "ODP_COUNT_BODY = {\n",
    "    \"budget\": {\n",
    "        \"epsilon\": 1\n",
    "    },\n",
    "    \"dataset\": 1,\n",
    "    \"query\": [\n",
    "        {\n",
    "            \"count\": {\n",
    "                \"column\": \"age\",\n",
    "                \"mech\": \"Laplace\"\n",
    "            }\n",
    "        }\n",
    "    ]\n",
    "}\n",
    "\n",
    "ocd_resp = make_request(endpoint=f'/queries/evaluate{OPEN_EVAL}', method=\"POST\", token=TOKEN, body=ODP_COUNT_BODY)\n",
    "pprint(ocd_resp.json())"
   ]
  },
  {
   "cell_type": "code",
   "execution_count": null,
   "metadata": {},
   "outputs": [],
   "source": [
    "# Tumult Count\n",
    "TUM_COUNT_BODY = {\n",
    "    \"budget\": {\n",
    "        \"epsilon\": 1\n",
    "    },\n",
    "    \"dataset\": 1,\n",
    "    \"query\": [\n",
    "        {\n",
    "            \"count\": {\n",
    "                \"mech\": \"Laplace\"\n",
    "            }\n",
    "        }\n",
    "    ]\n",
    "}\n",
    "\n",
    "tcb_resp = make_request(endpoint=f'/queries/evaluate{TUM_EVAL}', method=\"POST\", token=TOKEN, body=TUM_COUNT_BODY)\n",
    "pprint(tcb_resp.json())"
   ]
  },
  {
   "cell_type": "markdown",
   "metadata": {},
   "source": [
    "Sum"
   ]
  },
  {
   "cell_type": "code",
   "execution_count": null,
   "metadata": {},
   "outputs": [],
   "source": [
    "# GoogleDP sum\n",
    "GDP_SUM_BODY = {\n",
    "    \"budget\": {\n",
    "        \"epsilon\": 1\n",
    "    },\n",
    "    \"dataset\": 1,\n",
    "    \"query\": [\n",
    "        {\n",
    "            \"sum\": {\n",
    "                \"column\": \"age\",\n",
    "                \"mech\": \"Laplace\"\n",
    "            }\n",
    "        }\n",
    "    ]\n",
    "}\n",
    "\n",
    "gsd_resp = make_request(endpoint=f'/queries/evaluate{GDP_EVAL}', method=\"POST\", token=TOKEN, body=GDP_SUM_BODY)\n",
    "pprint(gsd_resp.json())\n"
   ]
  },
  {
   "cell_type": "code",
   "execution_count": null,
   "metadata": {},
   "outputs": [],
   "source": [
    "# OpenDP Sum\n",
    "ODP_SUM_BODY = {\n",
    "    \"budget\": {\n",
    "        \"epsilon\": 1\n",
    "    },\n",
    "    \"dataset\": 1,\n",
    "    \"query\": [\n",
    "        {\n",
    "            \"sum\": {\n",
    "                \"column\": \"age\",\n",
    "                \"mech\": \"Laplace\"\n",
    "            }\n",
    "        }\n",
    "    ]\n",
    "}\n",
    "\n",
    "osd_resp = make_request(endpoint=f'/queries/evaluate{OPEN_EVAL}', method=\"POST\", token=TOKEN, body=ODP_SUM_BODY)\n",
    "pprint(osd_resp.json())"
   ]
  },
  {
   "cell_type": "code",
   "execution_count": null,
   "metadata": {},
   "outputs": [],
   "source": [
    "# Tumult Sum\n",
    "TUM_SUM_BODY = {\n",
    "    \"budget\": {\n",
    "        \"epsilon\": 0.5\n",
    "    },\n",
    "    \"dataset\": 1,\n",
    "    \"query\": [\n",
    "        {\n",
    "            \"sum\": {\n",
    "                \"column\": \"age\"\n",
    "            }\n",
    "        }\n",
    "    ]\n",
    "}\n",
    "\n",
    "tsb_resp = make_request(endpoint=f'/queries/evaluate{TUM_EVAL}', method=\"POST\", token=TOKEN, body=TUM_SUM_BODY)\n",
    "pprint(tsb_resp.json())"
   ]
  },
  {
   "cell_type": "markdown",
   "metadata": {},
   "source": [
    "Mean"
   ]
  },
  {
   "cell_type": "code",
   "execution_count": null,
   "metadata": {},
   "outputs": [],
   "source": [
    "# GoogleDP mean\n",
    "GDP_MEAN_BODY = {\n",
    "    \"budget\": {\n",
    "        \"epsilon\": 1\n",
    "    },\n",
    "    \"dataset\": 1,\n",
    "    \"query\": [\n",
    "        {\n",
    "            \"mean\": {\n",
    "                \"column\": \"age\",\n",
    "                \"mech\": \"Laplace\"\n",
    "            }\n",
    "        }\n",
    "    ]\n",
    "}\n",
    "\n",
    "gmd_resp = make_request(endpoint=f'/queries/evaluate{GDP_EVAL}', method=\"POST\", token=TOKEN, body=GDP_MEAN_BODY)\n",
    "pprint(gmd_resp.json())"
   ]
  },
  {
   "cell_type": "code",
   "execution_count": null,
   "metadata": {},
   "outputs": [],
   "source": [
    "# OpenDP Mean Not Supported\n",
    "# Recommended to do post processing using results from count and sum queries\n"
   ]
  },
  {
   "cell_type": "code",
   "execution_count": null,
   "metadata": {},
   "outputs": [],
   "source": [
    "# Tumult Mean\n",
    "TUM_MEAN_BODY = {\n",
    "    \"budget\": {\n",
    "        \"epsilon\": 1\n",
    "    },\n",
    "    \"dataset\": 1,\n",
    "    \"query\": [\n",
    "        {\n",
    "            \"mean\": {\n",
    "                \"column\": \"age\"\n",
    "            }\n",
    "        }\n",
    "    ]\n",
    "}\n",
    "\n",
    "tmb_resp = make_request(endpoint=f'/queries/evaluate{TUM_EVAL}', method=\"POST\", token=TOKEN, body=TUM_MEAN_BODY)\n",
    "pprint(tmb_resp.json())"
   ]
  },
  {
   "cell_type": "markdown",
   "metadata": {},
   "source": [
    "Min"
   ]
  },
  {
   "cell_type": "code",
   "execution_count": null,
   "metadata": {},
   "outputs": [],
   "source": [
    "# GoogleDP min not supported\n",
    "# OpenDP min not supported\n",
    "\n",
    "# Tumult Min\n",
    "TUM_MIN_BODY = {\n",
    "    \"budget\": {\n",
    "        \"epsilon\": 1\n",
    "    },\n",
    "    \"dataset\": 1,\n",
    "    \"query\": [\n",
    "        {\n",
    "            \"min\": {\n",
    "                \"column\": \"age\"\n",
    "            }\n",
    "        }\n",
    "    ]\n",
    "}\n",
    "\n",
    "tminb_resp = make_request(endpoint=f'/queries/evaluate{TUM_EVAL}', method=\"POST\", token=TOKEN, body=TUM_MIN_BODY)\n",
    "pprint(tminb_resp.json())"
   ]
  },
  {
   "cell_type": "markdown",
   "metadata": {},
   "source": [
    "Max"
   ]
  },
  {
   "cell_type": "code",
   "execution_count": null,
   "metadata": {},
   "outputs": [],
   "source": [
    "# GoogleDP max not supported\n",
    "# OpenDP max not supported\n",
    "\n",
    "# Tumult Max\n",
    "TUM_MAX_BODY = {\n",
    "    \"budget\": {\n",
    "        \"epsilon\": 1\n",
    "    },\n",
    "    \"dataset\": 1,\n",
    "    \"query\": [\n",
    "        {\n",
    "            \"max\": {\n",
    "                \"column\": \"age\"\n",
    "            }\n",
    "        }\n",
    "    ]\n",
    "}\n",
    "\n",
    "tmaxb_resp = make_request(endpoint=f'/queries/evaluate{TUM_EVAL}', method=\"POST\", token=TOKEN, body=TUM_MAX_BODY)\n",
    "pprint(tmaxb_resp.json())"
   ]
  },
  {
   "cell_type": "markdown",
   "metadata": {},
   "source": [
    "Filter + Count\n"
   ]
  },
  {
   "cell_type": "code",
   "execution_count": null,
   "metadata": {},
   "outputs": [],
   "source": [
    "# GoogleDP Filter + Count\n",
    "GDP_FILTER_COUNT_BODY = {\n",
    "    \"budget\": {\n",
    "        \"epsilon\": 1\n",
    "    },\n",
    "    \"dataset\": 1,\n",
    "    \"query\": [\n",
    "        {\n",
    "            \"filter\": [\"age > 20\", \"age < 60\"]\n",
    "        },\n",
    "        {\n",
    "            \"count\": {\n",
    "                \"column\": \"age\",\n",
    "                \"mech\": \"Laplace\"\n",
    "            }\n",
    "        }\n",
    "    ]\n",
    "}\n",
    "\n",
    "gfcd_resp = make_request(endpoint=f'/queries/evaluate{GDP_EVAL}', method=\"POST\", token=TOKEN, body=GDP_FILTER_COUNT_BODY)\n",
    "pprint(gfcd_resp.json())"
   ]
  },
  {
   "cell_type": "code",
   "execution_count": null,
   "metadata": {},
   "outputs": [],
   "source": [
    "# OpenDP"
   ]
  },
  {
   "cell_type": "code",
   "execution_count": null,
   "metadata": {},
   "outputs": [],
   "source": [
    "# Tumult Filter + Count\n",
    "TUM_FILTER_COUNT_BODY = {\n",
    "    \"budget\": {\n",
    "        \"epsilon\": 1\n",
    "    },\n",
    "    \"dataset\": 1,\n",
    "    \"query\": [\n",
    "        { \n",
    "            \"filter\": [\"age > 20\", \"age < 60\"]\n",
    "        },\n",
    "        {\n",
    "            \"count\": {\n",
    "                \"mech\": \"Laplace\"\n",
    "            }\n",
    "        }\n",
    "    ]\n",
    "}\n",
    "\n",
    "tfcb_resp = make_request(endpoint=f'/queries/evaluate{TUM_EVAL}', method=\"POST\", token=TOKEN, body=TUM_FILTER_COUNT_BODY)\n",
    "pprint(tfcb_resp.json())"
   ]
  },
  {
   "cell_type": "markdown",
   "metadata": {},
   "source": [
    "Filter + Sum"
   ]
  },
  {
   "cell_type": "code",
   "execution_count": null,
   "metadata": {},
   "outputs": [],
   "source": [
    "# GoogleDP Filter + Sum\n",
    "GDP_FILTER_SUM_BODY = {\n",
    "    \"budget\": {\n",
    "        \"epsilon\": 1\n",
    "    },\n",
    "    \"dataset\": 1,\n",
    "    \"query\": [\n",
    "        {\n",
    "            \"filter\": [\"age > 20\", \"age < 60\"]\n",
    "        },\n",
    "        {\n",
    "            \"sum\": {\n",
    "                \"column\": \"age\",\n",
    "                \"mech\": \"Laplace\"\n",
    "            }\n",
    "        }\n",
    "    ]\n",
    "}\n",
    "\n",
    "gfsd_resp = make_request(endpoint=f'/queries/evaluate{GDP_EVAL}', method=\"POST\", token=TOKEN, body=GDP_FILTER_SUM_BODY)\n",
    "pprint(gfsd_resp.json())"
   ]
  },
  {
   "cell_type": "code",
   "execution_count": null,
   "metadata": {},
   "outputs": [],
   "source": [
    "# OpenDP"
   ]
  },
  {
   "cell_type": "code",
   "execution_count": null,
   "metadata": {},
   "outputs": [],
   "source": [
    "# Tumult Filter + Sum\n",
    "TUM_FILTER_SUM_BODY = {\n",
    "    \"budget\": {\n",
    "        \"epsilon\": 1\n",
    "    },\n",
    "    \"dataset\": 1,\n",
    "    \"query\": [\n",
    "        { \n",
    "            \"filter\": [\"age > 20\", \"age < 60\"] \n",
    "        },\n",
    "        {\n",
    "            \"sum\": {\n",
    "                \"column\": \"age\",\n",
    "                \"mech\": \"Laplace\"\n",
    "            }\n",
    "        }\n",
    "    ]\n",
    "}\n",
    "\n",
    "tfsb_resp = make_request(endpoint=f'/queries/evaluate{TUM_EVAL}', method=\"POST\", token=TOKEN, body=TUM_FILTER_SUM_BODY)\n",
    "pprint(tfsb_resp.json())"
   ]
  },
  {
   "cell_type": "markdown",
   "metadata": {},
   "source": [
    "Filter + Mean"
   ]
  },
  {
   "cell_type": "code",
   "execution_count": null,
   "metadata": {},
   "outputs": [],
   "source": [
    "# GoogleDP Filter + Mean\n",
    "GDP_FILTER_MEAN_BODY = {\n",
    "    \"budget\": {\n",
    "        \"epsilon\": 1\n",
    "    },\n",
    "    \"dataset\": 1,\n",
    "    \"query\": [\n",
    "        {\n",
    "            \"filter\": [\"age > 20\", \"age < 60\"]\n",
    "        },\n",
    "        {\n",
    "            \"mean\": {\n",
    "                \"column\": \"age\",\n",
    "                \"mech\": \"Laplace\"\n",
    "            }\n",
    "        }\n",
    "    ]\n",
    "}\n",
    "\n",
    "gfmd_resp = make_request(endpoint=f'/queries/evaluate{GDP_EVAL}', method=\"POST\", token=TOKEN, body=GDP_FILTER_MEAN_BODY)\n",
    "pprint(gfmd_resp.json())"
   ]
  },
  {
   "cell_type": "code",
   "execution_count": null,
   "metadata": {},
   "outputs": [],
   "source": [
    "# OpenDP"
   ]
  },
  {
   "cell_type": "code",
   "execution_count": null,
   "metadata": {},
   "outputs": [],
   "source": [
    "# Tumult Filter + Mean\n",
    "TUM_FILTER_MEAN_BODY = {\n",
    "    \"budget\": {\n",
    "        \"epsilon\": 1\n",
    "    },\n",
    "    \"dataset\": 1,\n",
    "    \"query\": [\n",
    "        { \n",
    "            \"filter\": [\"age > 20\", \"age < 60\"] \n",
    "        },\n",
    "        {\n",
    "            \"mean\": {\n",
    "                \"column\": \"age\",\n",
    "                \"mech\": \"Laplace\"\n",
    "            }\n",
    "        }\n",
    "    ]\n",
    "}\n",
    "\n",
    "tfmb_resp = make_request(endpoint=f'/queries/evaluate{TUM_EVAL}', method=\"POST\", token=TOKEN, body=TUM_FILTER_MEAN_BODY)\n",
    "pprint(tfmb_resp.json())"
   ]
  },
  {
   "cell_type": "markdown",
   "metadata": {},
   "source": [
    "Bin + Count"
   ]
  },
  {
   "cell_type": "code",
   "execution_count": null,
   "metadata": {},
   "outputs": [],
   "source": [
    "# GoogleDP Bin + Count\n",
    "GDP_BIN_COUNT_BODY = {\n",
    "    \"budget\": {\n",
    "        \"epsilon\": 1\n",
    "    },\n",
    "    \"dataset\": 1,\n",
    "    \"query\": [\n",
    "        {\n",
    "            \"bin\": {\n",
    "                \"age\": [20,30,40,50,60]\n",
    "            }\n",
    "        },\n",
    "        {\n",
    "            \"count\": {\n",
    "                \"column\": \"age\",\n",
    "                \"mech\": \"Laplace\"\n",
    "            }\n",
    "        }\n",
    "    ]\n",
    "}\n",
    "\n",
    "gbcd_resp = make_request(endpoint=f'/queries/evaluate{GDP_EVAL}', method=\"POST\", token=TOKEN, body=GDP_BIN_COUNT_BODY)\n",
    "pprint(gbcd_resp.json())"
   ]
  },
  {
   "cell_type": "code",
   "execution_count": null,
   "metadata": {},
   "outputs": [],
   "source": [
    "# OpenDP"
   ]
  },
  {
   "cell_type": "code",
   "execution_count": null,
   "metadata": {},
   "outputs": [],
   "source": [
    "# Tumult Bin + Count\n",
    "TUM_BIN_COUNT_BODY = {\n",
    "    \"budget\": {\n",
    "        \"epsilon\": 1\n",
    "    },\n",
    "    \"dataset\": 1,\n",
    "    \"query\": [\n",
    "        { \n",
    "            \"bin\": {\n",
    "                \"age\": [20, 30, 40, 50, 60]\n",
    "            }\n",
    "        },\n",
    "        { \n",
    "            \"groupby\":  {\n",
    "                    \"age_binned\": [30, 40, 50, 60],\n",
    "            }\n",
    "        },\n",
    "        {\n",
    "            \"count\": {\n",
    "                \"mech\": \"Laplace\"\n",
    "            }\n",
    "        }\n",
    "    ]\n",
    "}\n",
    "\n",
    "tbcb_resp = make_request(endpoint=f'/queries/evaluate{TUM_EVAL}', method=\"POST\", token=TOKEN, body=TUM_BIN_COUNT_BODY)\n",
    "pprint(tbcb_resp.json())"
   ]
  },
  {
   "cell_type": "markdown",
   "metadata": {},
   "source": [
    "Bin + Sum"
   ]
  },
  {
   "cell_type": "code",
   "execution_count": null,
   "metadata": {},
   "outputs": [],
   "source": [
    "# GoogleDP Bin + Sum\n",
    "GDP_BIN_SUM_BODY = {\n",
    "    \"budget\": {\n",
    "        \"epsilon\": 1\n",
    "    },\n",
    "    \"dataset\": 1,\n",
    "    \"query\": [\n",
    "        {\n",
    "            \"bin\": {\n",
    "                \"age\": [20,30,40,50,60]\n",
    "            }\n",
    "        },\n",
    "        {\n",
    "            \"sum\": {\n",
    "                \"column\": \"age\",\n",
    "                \"mech\": \"Laplace\"\n",
    "            }\n",
    "        }\n",
    "    ]\n",
    "}\n",
    "\n",
    "gbsd_resp = make_request(endpoint=f'/queries/evaluate{GDP_EVAL}', method=\"POST\", token=TOKEN, body=GDP_BIN_SUM_BODY)\n",
    "pprint(gbsd_resp.json())"
   ]
  },
  {
   "cell_type": "code",
   "execution_count": null,
   "metadata": {},
   "outputs": [],
   "source": [
    "# OpenDP"
   ]
  },
  {
   "cell_type": "code",
   "execution_count": null,
   "metadata": {},
   "outputs": [],
   "source": [
    "# Tumult Bin + Sum\n",
    "TUM_BIN_SUM_BODY = {\n",
    "    \"budget\": {\n",
    "        \"epsilon\": 1\n",
    "    },\n",
    "    \"dataset\": 1,\n",
    "    \"query\": [\n",
    "        { \n",
    "            \"bin\": {\n",
    "                \"age\": [20, 30, 40, 50, 60]\n",
    "            }\n",
    "        },\n",
    "        { \n",
    "            \"groupby\":  {\n",
    "                    \"age_binned\": [30, 40, 50, 60],\n",
    "            }\n",
    "        },\n",
    "        {\n",
    "            \"sum\": {\n",
    "                \"column\" : \"age\",\n",
    "                \"mech\": \"Laplace\"\n",
    "            }\n",
    "        }\n",
    "    ]\n",
    "}\n",
    "\n",
    "tbsb_resp = make_request(endpoint=f'/queries/evaluate{TUM_EVAL}', method=\"POST\", token=TOKEN, body=TUM_BIN_SUM_BODY)\n",
    "pprint(tbsb_resp.json())"
   ]
  },
  {
   "cell_type": "markdown",
   "metadata": {},
   "source": [
    "Bin + Mean"
   ]
  },
  {
   "cell_type": "code",
   "execution_count": null,
   "metadata": {},
   "outputs": [],
   "source": [
    "# GoogleDP Bin + Mean\n",
    "GDP_BIN_MEAN_BODY = {\n",
    "    \"budget\": {\n",
    "        \"epsilon\": 1\n",
    "    },\n",
    "    \"dataset\": 1,\n",
    "    \"query\": [\n",
    "        {\n",
    "            \"bin\": {\n",
    "                \"age\": [20,30,40,50,60]\n",
    "            }\n",
    "        },\n",
    "        {\n",
    "            \"mean\": {\n",
    "                \"column\": \"age\",\n",
    "                \"mech\": \"Laplace\"\n",
    "            }\n",
    "        }\n",
    "    ]\n",
    "}\n",
    "\n",
    "gbmd_resp = make_request(endpoint=f'/queries/evaluate{GDP_EVAL}', method=\"POST\", token=TOKEN, body=GDP_BIN_MEAN_BODY)\n",
    "pprint(gbmd_resp.json())"
   ]
  },
  {
   "cell_type": "code",
   "execution_count": null,
   "metadata": {},
   "outputs": [],
   "source": [
    "# OpenDP"
   ]
  },
  {
   "cell_type": "code",
   "execution_count": null,
   "metadata": {},
   "outputs": [],
   "source": [
    "# Tumult Bin + Mean\n",
    "TUM_BIN_MEAN_BODY = {\n",
    "    \"budget\": {\n",
    "        \"epsilon\": 1\n",
    "    },\n",
    "    \"dataset\": 1,\n",
    "    \"query\": [\n",
    "        { \n",
    "            \"bin\": {\n",
    "                \"age\": [20, 30, 40, 50, 60]\n",
    "            }\n",
    "        },\n",
    "        { \n",
    "            \"groupby\":  {\n",
    "                    \"age_binned\": [30, 40, 50, 60],\n",
    "            }\n",
    "        },\n",
    "        {\n",
    "            \"mean\": {\n",
    "                \"column\" : \"age\",\n",
    "                \"mech\": \"Laplace\"\n",
    "            }\n",
    "        }\n",
    "    ]\n",
    "}\n",
    "\n",
    "tbmb_resp = make_request(endpoint=f'/queries/evaluate{TUM_EVAL}', method=\"POST\", token=TOKEN, body=TUM_BIN_MEAN_BODY)\n",
    "pprint(tbmb_resp.json())"
   ]
  },
  {
   "cell_type": "markdown",
   "metadata": {},
   "source": [
    "Filter + Bin + Count"
   ]
  },
  {
   "cell_type": "code",
   "execution_count": null,
   "metadata": {},
   "outputs": [],
   "source": [
    "# GoogleDP Filter + Bin + Count\n",
    "GDP_FILTER_BIN_COUNT_BODY = {\n",
    "    \"budget\": {\n",
    "        \"epsilon\": 1\n",
    "    },\n",
    "    \"dataset\": 1,\n",
    "    \"query\": [\n",
    "        {\n",
    "            \"filter\": [\"age > 20\", \"age < 60\"]\n",
    "        },\n",
    "        {\n",
    "            \"bin\": {\n",
    "                \"age\": [20,30,40,50,60]\n",
    "            }\n",
    "        },\n",
    "        {\n",
    "            \"count\": {\n",
    "                \"column\": \"age\",\n",
    "                \"mech\": \"Laplace\"\n",
    "            }\n",
    "        }\n",
    "    ]\n",
    "}\n",
    "\n",
    "gfbcb_resp = make_request(endpoint=f'/queries/evaluate{GDP_EVAL}', method=\"POST\", token=TOKEN, body=GDP_FILTER_BIN_COUNT_BODY)\n",
    "pprint(gfbcb_resp.json())"
   ]
  },
  {
   "cell_type": "code",
   "execution_count": null,
   "metadata": {},
   "outputs": [],
   "source": [
    "# OpenDP"
   ]
  },
  {
   "cell_type": "code",
   "execution_count": null,
   "metadata": {},
   "outputs": [],
   "source": [
    "# Tumult\n",
    "TUM_FILTER_BIN_COUNT_BODY = {\n",
    "    \"budget\": {\n",
    "        \"epsilon\": 1\n",
    "    },\n",
    "    \"dataset\": 1,\n",
    "    \"query\": [\n",
    "        { \n",
    "            \"filter\": [\"age > 20\", \"age < 60\"]\n",
    "        },\n",
    "        { \n",
    "            \"bin\": {\n",
    "                \"age\": [20, 30, 40, 50, 60]\n",
    "            }\n",
    "        },\n",
    "        { \n",
    "            \"groupby\":  {\n",
    "                    \"age_binned\": [30, 40, 50, 60],\n",
    "            }\n",
    "        },\n",
    "        {\n",
    "            \"count\": {\n",
    "                \"mech\": \"Laplace\"\n",
    "            }\n",
    "        }\n",
    "    ]\n",
    "}\n",
    "\n",
    "tfbcb_resp = make_request(endpoint=f'/queries/evaluate{TUM_EVAL}', method=\"POST\", token=TOKEN, body=TUM_FILTER_BIN_COUNT_BODY)\n",
    "pprint(tfbcb_resp.json())"
   ]
  },
  {
   "cell_type": "markdown",
   "metadata": {},
   "source": [
    "Filter + Bin + Sum"
   ]
  },
  {
   "cell_type": "code",
   "execution_count": null,
   "metadata": {},
   "outputs": [],
   "source": [
    "# GoogleDP Filter + Bin + Sum\n",
    "GDP_FILTER_BIN_SUM_BODY = {\n",
    "    \"budget\": {\n",
    "        \"epsilon\": 1\n",
    "    },\n",
    "    \"dataset\": 1,\n",
    "    \"query\": [\n",
    "        {\n",
    "            \"filter\": [\"age > 20\", \"age < 60\"]\n",
    "        },\n",
    "        {\n",
    "            \"bin\": {\n",
    "                \"age\": [20,30,40,50,60]\n",
    "            }\n",
    "        },\n",
    "        {\n",
    "            \"sum\": {\n",
    "                \"column\": \"age\",\n",
    "                \"mech\": \"Laplace\"\n",
    "            }\n",
    "        }\n",
    "    ]\n",
    "}\n",
    "\n",
    "gfbsb_resp = make_request(endpoint=f'/queries/evaluate{GDP_EVAL}', method=\"POST\", token=TOKEN, body=GDP_FILTER_BIN_SUM_BODY)\n",
    "pprint(gfbsb_resp.json())"
   ]
  },
  {
   "cell_type": "code",
   "execution_count": null,
   "metadata": {},
   "outputs": [],
   "source": [
    "# OpenDP"
   ]
  },
  {
   "cell_type": "code",
   "execution_count": null,
   "metadata": {},
   "outputs": [],
   "source": [
    "# Tumult Filter + Bin + Sum\n",
    "TUM_FILTER_BIN_SUM_BODY = {\n",
    "    \"budget\": {\n",
    "        \"epsilon\": 1\n",
    "    },\n",
    "    \"dataset\": 1,\n",
    "    \"query\": [\n",
    "        { \n",
    "            \"filter\": [\"age > 20\", \"age < 60\"]\n",
    "        },\n",
    "        { \n",
    "            \"bin\": {\n",
    "                \"age\": [20, 30, 40, 50, 60]\n",
    "            }\n",
    "        },\n",
    "        { \n",
    "            \"groupby\":  {\n",
    "                    \"age_binned\": [30, 40, 50, 60],\n",
    "            }\n",
    "        },\n",
    "        {\n",
    "            \"sum\": {\n",
    "                \"column\": \"age\",\n",
    "                \"mech\": \"Laplace\"\n",
    "            }\n",
    "        }\n",
    "    ]\n",
    "}\n",
    "\n",
    "tfbsb_resp = make_request(endpoint=f'/queries/evaluate{TUM_EVAL}', method=\"POST\", token=TOKEN, body=TUM_FILTER_BIN_SUM_BODY)\n",
    "pprint(tfbsb_resp.json())"
   ]
  },
  {
   "cell_type": "markdown",
   "metadata": {},
   "source": [
    "Filter + Bin + Mean"
   ]
  },
  {
   "cell_type": "code",
   "execution_count": null,
   "metadata": {},
   "outputs": [],
   "source": [
    "# GoogleDP Filter + Bin + Mean\n",
    "GDP_FILTER_BIN_MEAN_BODY = {\n",
    "    \"budget\": {\n",
    "        \"epsilon\": 1\n",
    "    },\n",
    "    \"dataset\": 1,\n",
    "    \"query\": [\n",
    "        {\n",
    "            \"filter\": [\"age > 20\", \"age < 60\"]\n",
    "        },\n",
    "        {\n",
    "            \"bin\": {\n",
    "                \"age\": [20,30,40,50,60]\n",
    "            }\n",
    "        },\n",
    "        {\n",
    "            \"mean\": {\n",
    "                \"column\": \"age\",\n",
    "                \"mech\": \"Laplace\"\n",
    "            }\n",
    "        }\n",
    "    ]\n",
    "}\n",
    "\n",
    "gfbmb_resp = make_request(endpoint=f'/queries/evaluate{GDP_EVAL}', method=\"POST\", token=TOKEN, body=GDP_FILTER_BIN_MEAN_BODY)\n",
    "pprint(gfbmb_resp.json())"
   ]
  },
  {
   "cell_type": "code",
   "execution_count": null,
   "metadata": {},
   "outputs": [],
   "source": [
    "# OpenDP"
   ]
  },
  {
   "cell_type": "code",
   "execution_count": null,
   "metadata": {},
   "outputs": [],
   "source": [
    "# Tumult Filter + Bin + Mean\n",
    "TUM_FILTER_BIN_MEAN_BODY = {\n",
    "    \"budget\": {\n",
    "        \"epsilon\": 1\n",
    "    },\n",
    "    \"dataset\": 1,\n",
    "    \"query\": [\n",
    "        { \n",
    "            \"filter\": [\"age > 20\", \"age < 60\"] \n",
    "        },\n",
    "        { \n",
    "            \"bin\": {\n",
    "                \"age\": [20, 30, 40, 50, 60]\n",
    "            }\n",
    "        },\n",
    "        { \n",
    "            \"groupby\":  {\n",
    "                    \"age_binned\": [30, 40, 50, 60],\n",
    "            }\n",
    "        },\n",
    "        {\n",
    "            \"mean\": {\n",
    "                \"column\": \"age\",\n",
    "                \"mech\": \"Laplace\"\n",
    "            }\n",
    "        }\n",
    "    ]\n",
    "}\n",
    "\n",
    "tfbmb_resp = make_request(endpoint=f'/queries/evaluate{TUM_EVAL}', method=\"POST\", token=TOKEN, body=TUM_FILTER_BIN_MEAN_BODY)\n",
    "pprint(tfbmb_resp.json())"
   ]
  },
  {
   "cell_type": "markdown",
   "metadata": {},
   "source": [
    "Below queries are only supported in Tumult at the moment"
   ]
  },
  {
   "cell_type": "code",
   "execution_count": null,
   "metadata": {},
   "outputs": [],
   "source": [
    "# Tumult GroupBy + Mean\n",
    "TUM_GBY_MEAN_BODY = {\n",
    "        \"dataset\": 1,\n",
    "        \"budget\": { \"epsilon\": 0.5 },\n",
    "        \"query\": [\n",
    "            { \"groupby\": { \"job\": [\"Accountant\", \"Dentist\", \"High School Teacher\", \"Software Engineer\"] } },\n",
    "            { \"sum\": { \"column\": \"salary\" } }\n",
    "        ]\n",
    "    }\n",
    "\n",
    "tgmb_resp = make_request(endpoint=f'/queries/evaluate{TUM_EVAL}', method=\"POST\", token=TOKEN, body=TUM_GBY_MEAN_BODY)\n",
    "pprint(tgmb_resp.json())"
   ]
  },
  {
   "cell_type": "code",
   "execution_count": null,
   "metadata": {},
   "outputs": [],
   "source": [
    "# Tumult Bin + GroupBy + Mean\n",
    "TUM_BIN_GBY_MEAN_BODY = {\n",
    "        \"dataset\": 1,\n",
    "        \"budget\": { \"epsilon\": 1 },\n",
    "        \"query\": [\n",
    "            { \"bin\": { \"age\": [18, 30, 45, 60, 75] } },\n",
    "            { \"groupby\":  {\n",
    "                    \"age_binned\": [30, 45, 60, 75],\n",
    "                    \"job\": [\"Accountant\", \"Dentist\", \"High School Teacher\", \"Software Engineer\"]\n",
    "                }\n",
    "            },\n",
    "            { \"mean\": { \"column\": \"salary\" } }\n",
    "        ]\n",
    "    }\n",
    "\n",
    "tbgmb_resp = make_request(endpoint=f'/queries/evaluate{TUM_EVAL}', method=\"POST\", token=TOKEN, body=TUM_BIN_GBY_MEAN_BODY)\n",
    "pprint(tbgmb_resp.json())"
   ]
  },
  {
   "cell_type": "code",
   "execution_count": null,
   "metadata": {},
   "outputs": [],
   "source": []
  }
 ],
 "metadata": {
  "kernelspec": {
   "display_name": "Python 3 (ipykernel)",
   "language": "python",
   "name": "python3"
  },
  "language_info": {
   "codemirror_mode": {
    "name": "ipython",
    "version": 3
   },
   "file_extension": ".py",
   "mimetype": "text/x-python",
   "name": "python",
   "nbconvert_exporter": "python",
   "pygments_lexer": "ipython3",
   "version": "3.12.0"
  }
 },
 "nbformat": 4,
 "nbformat_minor": 4
}
