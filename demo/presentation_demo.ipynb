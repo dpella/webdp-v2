{
 "cells": [
  {
   "cell_type": "markdown",
   "metadata": {},
   "source": [
    "Initlization of request function, constants and getting the auth token"
   ]
  },
  {
   "cell_type": "code",
   "execution_count": null,
   "metadata": {},
   "outputs": [],
   "source": [
    "from requests import request\n",
    "from pprint import pprint\n",
    "\n",
    "SERVER_API_ROOT = \"http://localhost:8000/v2\"\n",
    "ROOT_USER = {\"username\": \"root\", \"password\": \"123\"}\n",
    "\n",
    "TUM_EVAL = \"?engine=tumult\"\n",
    "OPEN_EVAL = \"?engine=opendp\"\n",
    "GDP_EVAL = \"?engine=googledp\"\n",
    "\n",
    "def make_request(endpoint, method, token=None, body=None, content_type=\"application/json\"):\n",
    "    headers = { \"Content-Type\": content_type }\n",
    "    if token is not None:\n",
    "        headers[\"Authorization\"] = f\"Bearer {token}\"\n",
    "    request_args={\n",
    "      \"url\": f\"{SERVER_API_ROOT}{endpoint}\",\n",
    "      \"method\": method,\n",
    "      \"headers\": headers,\n",
    "    }\n",
    "    if content_type == \"application/json\" and body is not None:\n",
    "      request_args[\"json\"] = body\n",
    "    if content_type == \"text/csv\" and body is not None:\n",
    "      request_args[\"data\"] = body\n",
    "\n",
    "    return request(**request_args)\n",
    "\n",
    "response = make_request(endpoint=\"/login\", method=\"POST\", body=ROOT_USER).json()\n",
    "\n",
    "TOKEN = response['token']"
   ]
  },
  {
   "cell_type": "markdown",
   "metadata": {},
   "source": [
    "Creating the dataset"
   ]
  },
  {
   "cell_type": "code",
   "execution_count": null,
   "metadata": {},
   "outputs": [],
   "source": [
    "create_dataset_body = {\n",
    "    \"name\": \"salaries\",\n",
    "    \"owner\": \"root\",\n",
    "    \"schema\": [\n",
    "        { \"name\": \"name\",   \"type\": { \"name\": \"Text\" } },\n",
    "        { \"name\": \"age\",    \"type\": { \"name\": \"Int\", \"low\": 18, \"high\": 100 } },\n",
    "        { \"name\": \"job\",    \"type\": { \"name\": \"Enum\", \"labels\": [\"Accountant\", \"Dentist\", \"High School Teacher\", \"Software Engineer\"] } },\n",
    "        { \"name\": \"salary\", \"type\": { \"name\": \"Int\", \"low\": 0, \"high\": 100000 } }\n",
    "    ],\n",
    "    \"privacy_notion\": \"PureDP\",\n",
    "    \"total_budget\": { \"epsilon\": 50 }\n",
    "}\n",
    "\n",
    "\n",
    "response = make_request(endpoint=\"/datasets\", method=\"POST\", token=TOKEN, body=create_dataset_body)\n",
    "pprint(response.json())"
   ]
  },
  {
   "cell_type": "markdown",
   "metadata": {},
   "source": [
    "Uploading the data to the dataset"
   ]
  },
  {
   "cell_type": "code",
   "execution_count": null,
   "metadata": {},
   "outputs": [],
   "source": [
    "with open(\"demo_data.csv\") as csv:\n",
    "    data = csv.read()\n",
    "\n",
    "response = make_request(endpoint=\"/datasets/1/upload\", method=\"POST\", token=TOKEN, content_type=\"text/csv\", body=data.encode())\n",
    "pprint(response)"
   ]
  },
  {
   "cell_type": "markdown",
   "metadata": {},
   "source": [
    "Allocating budget to user"
   ]
  },
  {
   "cell_type": "code",
   "execution_count": null,
   "metadata": {},
   "outputs": [],
   "source": [
    "allocate_budget_body = {\"epsilon\":1}\n",
    "\n",
    "response = make_request(endpoint=\"/budgets/allocations/root/1\", method=\"POST\", token=TOKEN, body=allocate_budget_body)\n",
    "pprint(response)"
   ]
  },
  {
   "cell_type": "markdown",
   "metadata": {},
   "source": [
    "Validating a count query"
   ]
  },
  {
   "cell_type": "code",
   "execution_count": null,
   "metadata": {},
   "outputs": [],
   "source": [
    "VALIDATE_COUNT_BODY = {\n",
    "    \"budget\": {\n",
    "        \"epsilon\": 0.2\n",
    "    },\n",
    "    \"dataset\": 1,\n",
    "    \"query\": [\n",
    "        {\n",
    "            \"count\": {\n",
    "                \"column\": \"age\",\n",
    "                \"mech\": \"Laplace\"\n",
    "            }\n",
    "        }\n",
    "    ]\n",
    "}\n",
    "\n",
    "validate_count_response = make_request(endpoint=f'/queries/validate', method=\"POST\", token=TOKEN, body=VALIDATE_COUNT_BODY)\n",
    "pprint(validate_count_response.json())"
   ]
  },
  {
   "cell_type": "markdown",
   "metadata": {},
   "source": [
    "Running evaluate on tumult, opendp and googledp connectors and counting the rows without DP using a for loop"
   ]
  },
  {
   "cell_type": "code",
   "execution_count": null,
   "metadata": {},
   "outputs": [],
   "source": [
    "# count no dp\n",
    "\n",
    "import csv\n",
    "\n",
    "with open('demo_data.csv', mode='r') as csv_file:\n",
    "    csv_no_dp = csv.DictReader(csv_file)\n",
    "    n_rows = 0\n",
    "    for row in csv_no_dp:\n",
    "        n_rows += 1\n",
    "\n",
    "print(f\"Count no DP: {n_rows}\")\n",
    "\n",
    "# count opendp\n",
    "ODP_COUNT_BODY = {\n",
    "    \"budget\": {\n",
    "        \"epsilon\": 0.2\n",
    "    },\n",
    "    \"dataset\": 1,\n",
    "    \"query\": [\n",
    "        {\n",
    "            \"count\": {\n",
    "                \"column\": \"age\",\n",
    "                \"mech\": \"Laplace\"\n",
    "            }\n",
    "        }\n",
    "    ]\n",
    "}\n",
    "\n",
    "ocd_resp = make_request(endpoint=f'/queries/evaluate{OPEN_EVAL}', method=\"POST\", token=TOKEN, body=ODP_COUNT_BODY)\n",
    "print(\"Count Opendp result:\")\n",
    "pprint(ocd_resp.json())\n",
    "\n",
    "# count googledp\n",
    "GDP_COUNT_BODY = {\n",
    "    \"budget\": {\n",
    "        \"epsilon\": 0.2\n",
    "    },\n",
    "    \"dataset\": 1,\n",
    "    \"query\": [\n",
    "        {\n",
    "            \"count\": {\n",
    "                \"column\": \"age\",\n",
    "                \"mech\": \"Laplace\"\n",
    "            }\n",
    "        }\n",
    "    ]\n",
    "}\n",
    "\n",
    "gcd_resp = make_request(endpoint=f'/queries/evaluate{GDP_EVAL}', method=\"POST\", token=TOKEN, body=GDP_COUNT_BODY)\n",
    "print(\"Count GoogleDp result\")\n",
    "pprint(gcd_resp.json())\n",
    "\n",
    "# count tumult\n",
    "TUM_COUNT_BODY = {\n",
    "    \"budget\": {\n",
    "        \"epsilon\": 0.2\n",
    "    },\n",
    "    \"dataset\": 1,\n",
    "    \"query\": [\n",
    "        {\n",
    "            \"count\": {\n",
    "                \"mech\": \"Laplace\"\n",
    "            }\n",
    "        }\n",
    "    ]\n",
    "}\n",
    "\n",
    "tcb_resp = make_request(endpoint=f'/queries/evaluate{TUM_EVAL}', method=\"POST\", token=TOKEN, body=TUM_COUNT_BODY)\n",
    "print(\"Count Tumult result\")\n",
    "pprint(tcb_resp.json())\n"
   ]
  },
  {
   "cell_type": "markdown",
   "metadata": {},
   "source": [
    "Evalualting Minimum query on GoogleDP connector. (Should fail as GoogleDP does not support min)"
   ]
  },
  {
   "cell_type": "code",
   "execution_count": null,
   "metadata": {},
   "outputs": [],
   "source": [
    "MIN_BODY = {\n",
    "    \"budget\": {\n",
    "        \"epsilon\": 0.2\n",
    "    },\n",
    "    \"dataset\": 1,\n",
    "    \"query\": [\n",
    "        {\n",
    "            \"min\": {\n",
    "                \"column\": \"age\"\n",
    "            }\n",
    "        }\n",
    "    ]\n",
    "}\n",
    "\n",
    "fail_min_resp = make_request(endpoint=f'/queries/evaluate{GDP_EVAL}', method=\"POST\", token=TOKEN, body=MIN_BODY)\n",
    "print(\"GoogleDP Min Query\")\n",
    "pprint(fail_min_resp.json())"
   ]
  },
  {
   "cell_type": "markdown",
   "metadata": {},
   "source": [
    "Running validate on the min query to see if any connector supports min"
   ]
  },
  {
   "cell_type": "code",
   "execution_count": null,
   "metadata": {},
   "outputs": [],
   "source": [
    "min_validate_resp = make_request(endpoint=f'/queries/validate', method=\"POST\", token=TOKEN, body=MIN_BODY)\n",
    "pprint(min_validate_resp.json())"
   ]
  },
  {
   "cell_type": "markdown",
   "metadata": {},
   "source": [
    "Running min query on tumult connector"
   ]
  },
  {
   "cell_type": "code",
   "execution_count": null,
   "metadata": {},
   "outputs": [],
   "source": [
    "tminb_resp = make_request(endpoint=f'/queries/evaluate{TUM_EVAL}', method=\"POST\", token=TOKEN, body=MIN_BODY)\n",
    "print(\"Tumult Min Result\")\n",
    "pprint(tminb_resp.json())"
   ]
  },
  {
   "cell_type": "markdown",
   "metadata": {},
   "source": [
    "We have now spend a total of 0.8 epsilon, we have 0.2 epsilon left allocated to this user\n",
    "What happens if we want to make a query that costs 0.5 epsilon"
   ]
  },
  {
   "cell_type": "code",
   "execution_count": null,
   "metadata": {},
   "outputs": [],
   "source": [
    "NOT_ENOUGH_EPS_EVAL = {\n",
    "    \"budget\": {\n",
    "        \"epsilon\": 0.5\n",
    "    },\n",
    "    \"dataset\": 1,\n",
    "    \"query\": [\n",
    "        {\n",
    "            \"filter\": [\"age > 20\", \"age < 60\"]\n",
    "        },\n",
    "        {\n",
    "            \"bin\": {\n",
    "                \"age\": [20,30,40,50,60]\n",
    "            }\n",
    "        },\n",
    "        {\n",
    "            \"count\": {\n",
    "                \"column\": \"age\",\n",
    "                \"mech\": \"Laplace\"\n",
    "            }\n",
    "        }\n",
    "    ]\n",
    "}\n",
    "\n",
    "nee_eval = make_request(endpoint=f'/queries/evaluate{GDP_EVAL}', method=\"POST\", token=TOKEN, body=NOT_ENOUGH_EPS_EVAL)\n",
    "pprint(nee_eval.json())"
   ]
  },
  {
   "cell_type": "markdown",
   "metadata": {},
   "source": [
    "Let's check how much budget the user has left"
   ]
  },
  {
   "cell_type": "code",
   "execution_count": null,
   "metadata": {},
   "outputs": [],
   "source": [
    "budget_check_resp = make_request(endpoint=f'/budgets/users/root', method=\"GET\", token=TOKEN)\n",
    "pprint(budget_check_resp.json())"
   ]
  },
  {
   "cell_type": "markdown",
   "metadata": {},
   "source": [
    "We see that the user only has 0.2 epsilon left on dataset 1\n",
    "Let's do the query with 0.2 epsilon"
   ]
  },
  {
   "cell_type": "code",
   "execution_count": null,
   "metadata": {},
   "outputs": [],
   "source": [
    "ENOUGH_EPS_EVAL = {\n",
    "    \"budget\": {\n",
    "        \"epsilon\": 0.2\n",
    "    },\n",
    "    \"dataset\": 1,\n",
    "    \"query\": [\n",
    "        {\n",
    "            \"filter\": [\"age > 20\", \"age < 60\"]\n",
    "        },\n",
    "        {\n",
    "            \"bin\": {\n",
    "                \"age\": [20,30,40,50,60]\n",
    "            }\n",
    "        },\n",
    "        {\n",
    "            \"count\": {\n",
    "                \"column\": \"age\",\n",
    "                \"mech\": \"Laplace\"\n",
    "            }\n",
    "        }\n",
    "    ]\n",
    "}\n",
    "\n",
    "eee_eval = make_request(endpoint=f'/queries/evaluate{GDP_EVAL}', method=\"POST\", token=TOKEN, body=ENOUGH_EPS_EVAL)\n",
    "pprint(eee_eval.json())"
   ]
  },
  {
   "cell_type": "markdown",
   "metadata": {},
   "source": [
    "Checking the budget of the user"
   ]
  },
  {
   "cell_type": "code",
   "execution_count": null,
   "metadata": {},
   "outputs": [],
   "source": [
    "budget_check_resp = make_request(endpoint=f'/budgets/users/root', method=\"GET\", token=TOKEN)\n",
    "pprint(budget_check_resp.json())"
   ]
  }
 ],
 "metadata": {
  "kernelspec": {
   "display_name": "Python 3 (ipykernel)",
   "language": "python",
   "name": "python3"
  },
  "language_info": {
   "codemirror_mode": {
    "name": "ipython",
    "version": 3
   },
   "file_extension": ".py",
   "mimetype": "text/x-python",
   "name": "python",
   "nbconvert_exporter": "python",
   "pygments_lexer": "ipython3",
   "version": "3.12.0"
  }
 },
 "nbformat": 4,
 "nbformat_minor": 4
}
