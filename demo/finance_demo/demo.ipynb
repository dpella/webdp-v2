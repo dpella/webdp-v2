{
 "cells": [
  {
   "cell_type": "code",
   "execution_count": 1,
   "metadata": {},
   "outputs": [
    {
     "name": "stdout",
     "output_type": "stream",
     "text": [
      "We will be working with the dataset:\n",
      "{'name': 'zip_code', 'type': {'name': 'Text'}}\n",
      "{'name': 'salary_SEK', 'type': {'name': 'Int', 'low': 10000, 'high': 100000}}\n",
      "{'name': 'job_sector', 'type': {'name': 'Enum', 'labels': ['Finance', 'IT', 'Education', 'Unemployed', 'Other']}}\n",
      "{'name': 'has_criminal_record', 'type': {'name': 'Bool'}}\n",
      "{'name': 'distance_to_closest_neighbor_km', 'type': {'name': 'Double', 'low': 0, 'high': 100}}\n"
     ]
    }
   ],
   "source": [
    "# first spin up the WebDP server\n",
    "# i.e 'docker-compose up -d'\n",
    "\n",
    "import webdp_demo as dem\n",
    "import requests\n",
    "import math\n",
    "\n",
    "BASE                     = \"http://localhost:8000/v2\"\n",
    "URL_LOGIN                = BASE + \"/login\"\n",
    "URL_DATASETS             = BASE + \"/datasets\"\n",
    "URL_USERS                = f\"{BASE}/users\"\n",
    "URL_DATASETS_ID          = lambda did: f\"{BASE}/datasets/{did}\"\n",
    "URL_DATASETS_UPLOAD      = lambda did: f\"{BASE}/datasets/{did}/upload\"\n",
    "URL_USER_DATASET_BUDGET  = lambda user, dataset: f\"{BASE}/budgets/allocations/{user}/{dataset}\"\n",
    "URL_USER_BUDGETS         = lambda user: f\"{BASE}/budgets/users/{user}\"\n",
    "URL_DATASET_BUDGETS      = lambda dataset: f\"{BASE}/datasets/{dataset}\"\n",
    "URL_EVALUATE_F           = lambda engine: f\"{BASE}/queries/evaluate?engine={engine}\"\n",
    "URL_EVALUATE             = f\"{BASE}/queries/evaluate\"\n",
    "URL_ACCURACY_F           = lambda engine: f\"{BASE}/queries/accuracy?engine={engine}\"\n",
    "URL_VALIDATE             = f\"{BASE}/queries/validate\"\n",
    "URL_FEATURES             = f\"{BASE}/queries/features\"\n",
    "\n",
    "dataset = dem.gen_csv(10000) # generate 10 000 rows of data\n",
    "\n",
    "print(\"We will be working with the dataset:\")\n",
    "for c in dem.column_schema:\n",
    "    print(c)\n",
    "\n"
   ]
  },
  {
   "cell_type": "code",
   "execution_count": 2,
   "metadata": {},
   "outputs": [
    {
     "name": "stdout",
     "output_type": "stream",
     "text": [
      "An analyst and a curator have logged in\n"
     ]
    }
   ],
   "source": [
    "# user creation\n",
    "\n",
    "root_token = requests.post(url=URL_LOGIN, json={\"username\":\"root\", \"password\":\"123\"}).json()[\"token\"]\n",
    "\n",
    "auth = lambda token: {\"Authorization\" : \"Bearer \" + token}\n",
    "\n",
    "analyst = {\n",
    "    \"handle\" : \"james\",\n",
    "    \"name\" : \"James Bond\",\n",
    "    \"password\" : \"jamesbond007\",\n",
    "    \"roles\" : [\"Analyst\"]\n",
    "}\n",
    "\n",
    "curator = {\n",
    "    \"handle\" : \"m\",\n",
    "    \"name\" : \"M\",\n",
    "    \"password\" : \"godsavethequeen\",\n",
    "    \"roles\" : [\"Curator\"]\n",
    "}\n",
    "\n",
    "requests.post(url=URL_USERS, json=analyst, headers=auth(root_token))\n",
    "requests.post(url=URL_USERS, json=curator, headers=auth(root_token))\n",
    "\n",
    "analyst_token = requests.post(url=URL_LOGIN, json={\"username\" : \"james\", \"password\" : \"jamesbond007\"}).json()[\"token\"]\n",
    "curator_token = requests.post(url=URL_LOGIN, json={\"username\" : \"m\", \"password\" : \"godsavethequeen\"}).json()[\"token\"]\n",
    "\n",
    "print(\"An analyst and a curator have logged in\")\n",
    "\n"
   ]
  },
  {
   "cell_type": "code",
   "execution_count": 3,
   "metadata": {},
   "outputs": [],
   "source": [
    "# Let the curator create and upload the data\n",
    "\n",
    "response = requests.post(\n",
    "    url=URL_DATASETS, \n",
    "    json= {\n",
    "        \"name\" : \"test_dataset\",\n",
    "        \"privacy_notion\" : \"PureDP\",\n",
    "        \"owner\" : \"m\",\n",
    "        \"total_budget\" : {\n",
    "            \"epsilon\" : 1.0\n",
    "        },\n",
    "        \"schema\" : dem.column_schema\n",
    "    },\n",
    "    headers=auth(curator_token)\n",
    ")\n",
    "\n",
    "dataset_id = response.json()[\"id\"]\n",
    "\n",
    "head = auth(curator_token)\n",
    "head[\"Content-Type\"] = \"text/csv\"\n",
    "\n",
    "_ = requests.post(\n",
    "    url=URL_DATASETS_UPLOAD(dataset_id), data=dataset, headers=head\n",
    ")"
   ]
  },
  {
   "cell_type": "code",
   "execution_count": 4,
   "metadata": {},
   "outputs": [
    {
     "name": "stdout",
     "output_type": "stream",
     "text": [
      "Result of query to WebDP: {\"detail\":\"bad request: not have budget for making the query\",\"status\":400,\"title\":\"Bad Request\",\"type\":\"Bad Request\"}\n",
      "\n"
     ]
    }
   ],
   "source": [
    "# now, budget has to be allocated to an analyst before they can make a query\n",
    "\n",
    "query_build = lambda q: {\n",
    "    \"dataset\" : 1,\n",
    "    \"budget\"  : {\"epsilon\" : 0.05},\n",
    "    \"query\"   : q\n",
    "}\n",
    "query = [\n",
    "    {\n",
    "        \"filter\" : [\"job_sector == \\\"Finance\\\"\"]\n",
    "    },\n",
    "    {\n",
    "        \"count\" : {\n",
    "            \"column\" : \"job_sector\",\n",
    "            \"mech\" : \"Laplace\"\n",
    "        }\n",
    "    }\n",
    "\n",
    "]\n",
    "\n",
    "\n",
    "q_req = lambda engine, q : requests.post(\n",
    "    url=URL_EVALUATE_F(engine), \n",
    "    json=q,\n",
    "    headers=auth(analyst_token)\n",
    ")\n",
    "\n",
    "response = q_req(\"opendp\", query_build(query))\n",
    "\n",
    "print(f\"Result of query to WebDP: {response.text}\")\n"
   ]
  },
  {
   "cell_type": "code",
   "execution_count": 5,
   "metadata": {},
   "outputs": [
    {
     "name": "stdout",
     "output_type": "stream",
     "text": [
      "Number of people working in finance: 983\n"
     ]
    }
   ],
   "source": [
    "# lets give them some budget\n",
    "\n",
    "_ = requests.post(\n",
    "    url=URL_USER_DATASET_BUDGET(\"james\", 1), json={\"epsilon\" : 0.5}, headers=auth(curator_token)\n",
    ")\n",
    "\n",
    "# and now lets try the query\n",
    "response = q_req(\"opendp\", query_build(query))\n",
    "\n",
    "number_in_finance = response.json().get(\"rows\")[0].get(\"job_sector\")\n",
    "\n",
    "print(f\"Number of people working in finance: {number_in_finance}\")"
   ]
  },
  {
   "cell_type": "code",
   "execution_count": 6,
   "metadata": {},
   "outputs": [
    {
     "name": "stdout",
     "output_type": "stream",
     "text": [
      "Total salary of all in Finance: 64051303\n"
     ]
    }
   ],
   "source": [
    "# lets see what the mean salary of those working in finance is\n",
    "\n",
    "query2 = [\n",
    "    {\n",
    "        \"filter\" : [\"job_sector == \\\"Finance\\\"\"]\n",
    "    },\n",
    "    {\n",
    "        \"sum\" : {\n",
    "            \"column\" : \"salary_SEK\",\n",
    "            \"mech\" : \"Laplace\"\n",
    "        }\n",
    "    }\n",
    "]\n",
    "\n",
    "response2 = q_req(\"opendp\", query_build(query2))\n",
    "\n",
    "\n",
    "sum_total_salary = int(response2.json().get(\"rows\")[0].get(\"salary_SEK\"))\n",
    "\n",
    "print(f\"Total salary of all in Finance: {sum_total_salary}\")"
   ]
  },
  {
   "cell_type": "code",
   "execution_count": 7,
   "metadata": {},
   "outputs": [
    {
     "name": "stdout",
     "output_type": "stream",
     "text": [
      "The mean salary of all in finance is: 65159\n"
     ]
    }
   ],
   "source": [
    "mean_salary_finance = sum_total_salary // number_in_finance\n",
    "\n",
    "print(f\"The mean salary of all in finance is: {mean_salary_finance}\")\n",
    "\n"
   ]
  },
  {
   "cell_type": "code",
   "execution_count": 8,
   "metadata": {},
   "outputs": [
    {
     "name": "stdout",
     "output_type": "stream",
     "text": [
      "Accuracy of count 74.01651759249056 at 0.9746794344808963 level of confidence\n",
      "Accuracy of sum 7352277.194155676 at 0.9746794344808963 level of confidence\n"
     ]
    }
   ],
   "source": [
    "# lets get an estimate of how accurate the mean value is\n",
    "\n",
    "confidence = math.sqrt(0.95)\n",
    "\n",
    "acc_q = lambda engine, q: requests.post(\n",
    "    url=URL_ACCURACY_F(engine=engine),\n",
    "    json=q,\n",
    "    headers=auth(analyst_token)\n",
    ")\n",
    "\n",
    "query_a  = query_build(query)\n",
    "query_a[\"confidence\"] = confidence\n",
    "\n",
    "query2_a = query_build(query2)\n",
    "query2_a[\"confidence\"] = confidence\n",
    "\n",
    "count_acc = acc_q(\"opendp\", query_a)\n",
    "sum_acc   = acc_q(\"opendp\", query2_a)\n",
    "\n",
    "count_acc_res = float(count_acc.json()[0])\n",
    "sum_acc_res   = float(sum_acc.json()[0])\n",
    "\n",
    "print(f\"Accuracy of count {count_acc_res} at {confidence} level of confidence\")\n",
    "print(f\"Accuracy of sum {sum_acc_res} at {confidence} level of confidence\")\n"
   ]
  },
  {
   "cell_type": "markdown",
   "metadata": {},
   "source": [
    "If $S$ is the true sum and $C$ the true count, let $\\tilde{S}$ be the DP sum and $\\tilde{C}$ the DP count. \n",
    "Let also $a_x$ denote the accuracy of the measurement of $x$, where the DP measurement $\\tilde{x}$ is at most $a_x$ away from the true value $x$ at some level of confidence $Con_x$. Then:\n",
    "$$\n",
    "    \\frac{\\tilde{S}-a_S}{\\tilde{C}+a_C} \\leq \\frac{S}{C} \\leq \\frac{\\tilde{S} + a_S}{\\tilde{C} - a_C}\n",
    "\n",
    "$$\n",
    "Is true at a confidence of $Con_S \\cdot Con_C$ for $0 < \\tilde{C}-a_C$\n",
    "\n",
    "## Proof:\n",
    "\n",
    "We know that $\\tilde{S} \\leq S + a_S$, so $\\tilde{S}-a_S \\leq S$. By the same token: $C \\leq \\tilde{C} + a_C$ Then we have that:\n",
    "$$\n",
    "    \\frac{\\tilde{S} - a_S}{\\tilde{C} + a_C} \\leq \\frac{S}{\\tilde{C} + a_C} \\leq \\frac{S}{C}\n",
    "\n",
    "$$\n",
    "Thus, $\\frac{\\tilde{S} - a_S}{\\tilde{C} + a_C}$ is a lower bound of the true mean. By the same reasoning as above we have that:\n",
    "\n",
    "$$\n",
    "    \\frac{\\tilde{S} + a_S}{\\tilde{C} - a_C} \\geq \\frac{S}{\\tilde{C} - a_C} \\geq \\frac{S}{C}\n",
    "$$\n",
    "So $\\frac{\\tilde{S} + a_S}{\\tilde{C} - a_C}$ is an upper bound of the true mean. Since the accuracies $a_C$ and $a_S$ are independent of each other, we can be $Con_C \\cdot Con_S$ certain that both are true at the same time, which finalizes the proof. "
   ]
  },
  {
   "cell_type": "code",
   "execution_count": 10,
   "metadata": {},
   "outputs": [
    {
     "name": "stdout",
     "output_type": "stream",
     "text": [
      "The true mean is in the inteval [53640.62421180005, 78553.22079674985] at a confidence of 0.9499999999999998\n"
     ]
    }
   ],
   "source": [
    "\n",
    "min_bound = (sum_total_salary - sum_acc_res) / (number_in_finance + count_acc_res)\n",
    "max_bound = (sum_total_salary + sum_acc_res) / (number_in_finance - count_acc_res)\n",
    "\n",
    "print(f\"The true mean is in the inteval [{min_bound}, {max_bound}] at a confidence of {confidence * confidence}\")"
   ]
  },
  {
   "cell_type": "code",
   "execution_count": 11,
   "metadata": {},
   "outputs": [
    {
     "data": {
      "image/png": "[encoded data removed]",
      "text/plain": [
       "<Figure size 800x600 with 1 Axes>"
      ]
     },
     "metadata": {},
     "output_type": "display_data"
    }
   ],
   "source": [
    "# we could also plot the distribution of people accross different job sectors\n",
    "\n",
    "import matplotlib.pyplot as plt\n",
    "\n",
    "hist = [\n",
    "    {\n",
    "        \"bin\" : {\n",
    "            \"job_sector\" : [\"Finance\", \"Education\", \"Other\", \"Unemployed\", \"IT\"]\n",
    "        }\n",
    "    },\n",
    "    {\n",
    "        \"count\" : {\n",
    "            \"column\" : \"job_sector\",\n",
    "            \"mech\" : \"Laplace\"\n",
    "        }\n",
    "    }\n",
    "]\n",
    "\n",
    "hist_res = q_req(\"opendp\", query_build(hist)).json().get(\"rows\")[0]\n",
    "\n",
    "labels = list(hist_res['job_sector'].keys())\n",
    "values = list(hist_res['job_sector'].values())\n",
    "\n",
    "# Create bar plot\n",
    "plt.figure(figsize=(8, 6))\n",
    "plt.bar(labels, values, color='skyblue')\n",
    "plt.xlabel('Job Sector')\n",
    "plt.ylabel('Frequency')\n",
    "plt.title('Histogram of Job Sectors')\n",
    "plt.xticks(rotation=45)  # Rotate x-axis labels for better readability\n",
    "plt.tight_layout()  # Adjust layout to prevent clipping of labels\n",
    "plt.show()\n",
    "\n"
   ]
  },
  {
   "cell_type": "markdown",
   "metadata": {},
   "source": [
    "Now, the user is not restricted to use only the OpenDP connector. We can call `queries/features` to see which connectors are available and what their features are."
   ]
  },
  {
   "cell_type": "code",
   "execution_count": 12,
   "metadata": {},
   "outputs": [
    {
     "name": "stdout",
     "output_type": "stream",
     "text": [
      "Connectors: \n",
      "googledp\n",
      "opendp\n",
      "tumult\n"
     ]
    }
   ],
   "source": [
    "\n",
    "\n",
    "features = requests.get(\n",
    "    url=URL_FEATURES, headers=auth(analyst_token)\n",
    ")\n",
    "\n",
    "print(\"Connectors: \")\n",
    "for connector in features.json():\n",
    "    print(connector)\n"
   ]
  },
  {
   "cell_type": "markdown",
   "metadata": {},
   "source": [
    "Let's use googledp"
   ]
  },
  {
   "cell_type": "code",
   "execution_count": 13,
   "metadata": {},
   "outputs": [
    {
     "name": "stdout",
     "output_type": "stream",
     "text": [
      "Tumult features:\n",
      "bin: {'enabled': True, 'required_fields': {'column': ' Name of the column used to assign bins.', 'name': 'The name of the column that will be created. If None (the default), the input column name with _binned appended to it.', 'spec': 'A BinningSpec that defines the binning operation to be performed.'}}\n",
      "count: {'enabled': True, 'required_fields': {'mechanism': ' Choice of noise mechanism. By default, the framework automatically selects an appropriate mechanism.', 'name': '(Optional[str]) – Name for the resulting aggregation column. Defaults to “count”.'}}\n",
      "filter: {'enabled': True, 'required_fields': {'array': 'an array of strings of SQL expressions specifying the filter to apply to the data. For example, the string “A > B” matches rows where column A is greater than column B'}}\n",
      "groupby: {'enabled': True, 'required_fields': {'key': ' A KeySet giving the set of groupby keys to be used when performing an aggregation.'}}\n",
      "map: {'enabled': True, 'required_fields': {'augment': 'If True, add new columns to the existing dataframe (so new schema = old schema + schema_new_columns). If False, make the new dataframe with schema = schema_new_columns', 'f': '(Callable[[Row], Row]) – The function to be applied to each row. The function’s input is a dictionary matching each column name to its value for that row. This function should return a dictionary, which should always have the same keys regardless of input, and the values in that dictionary should match the column type specified in new_column_types. The function should not have any side effects (in particular, f cannot raise exceptions).', 'new_column_types': '(Mapping[str, Union[tmlt.analytics._schema.ColumnDescriptor, tmlt.analytics._schema.ColumnType]]) – Mapping from column names to types, for new columns produced by f. Using ColumnDescriptor is preferred.'}}\n",
      "max: {'enabled': True, 'required_fields': {'column': 'The column to compute the quantile over.'}}\n",
      "mean: {'enabled': True, 'required_fields': {'column': 'The column to compute the quantile over.', 'mechanism': 'Choice of noise mechanism. By default, the framework automatically selects an appropriate mechanism.'}}\n",
      "min: {'enabled': True, 'required_fields': {'column': 'The column to compute the quantile over.', 'name': \"The name to give the resulting aggregation column. Defaults to f'{column}_min'.\"}}\n",
      "rename: {'enabled': True, 'required_fields': {'object': 'A mapping of columns to new column names. Columns not specified in the mapper will remain the same.'}}\n",
      "select: {'enabled': True, 'required_fields': {'columns': 'the columns to select, in a list'}}\n",
      "sum: {'enabled': True, 'required_fields': {'column': 'The column to compute the quantile over.', 'mechanism': 'Choice of noise mechanism. By default, the framework automatically selects an appropriate mechanism.'}}\n"
     ]
    }
   ],
   "source": [
    "\n",
    "googledp_features = features.json().get(\"tumult\")\n",
    "print(\"Tumult features:\")\n",
    "for feature in googledp_features:\n",
    "    print(f\"{feature}: {googledp_features.get(feature)}\")"
   ]
  },
  {
   "cell_type": "markdown",
   "metadata": {},
   "source": [
    "It looks like we can make a histogram in Tumult as well"
   ]
  },
  {
   "cell_type": "code",
   "execution_count": 14,
   "metadata": {},
   "outputs": [
    {
     "name": "stdout",
     "output_type": "stream",
     "text": [
      "{'detail': 'something bad happened: {\"title\":\"Bad request\",\"type\":\"\",\"status\":400,\"detail\":\"Invalid query: Unsupported Spark data type: Tumult Analytics does not yet support the Spark data types for the following columns: [(\\'has_criminal_record\\', BooleanType())]. Consider casting these columns into one of the supported Spark data types: {DateType(), IntegerType(), DoubleType(), LongType(), StringType(), FloatType(), TimestampType()}.\"}', 'status': 500, 'title': 'Unexpected error', 'type': 'Unexpected error'}\n"
     ]
    }
   ],
   "source": [
    "hist_2_res = q_req(\"tumult\", query_build(hist)).json()\n",
    "\n",
    "print(hist_2_res)"
   ]
  },
  {
   "cell_type": "markdown",
   "metadata": {},
   "source": [
    "Oops! I guess not? "
   ]
  }
 ],
 "metadata": {
  "kernelspec": {
   "display_name": "Python 3",
   "language": "python",
   "name": "python3"
  },
  "language_info": {
   "codemirror_mode": {
    "name": "ipython",
    "version": 3
   },
   "file_extension": ".py",
   "mimetype": "text/x-python",
   "name": "python",
   "nbconvert_exporter": "python",
   "pygments_lexer": "ipython3",
   "version": "3.12.0"
  }
 },
 "nbformat": 4,
 "nbformat_minor": 2
}
